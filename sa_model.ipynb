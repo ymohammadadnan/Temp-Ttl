{
 "cells": [
  {
   "cell_type": "code",
   "execution_count": null,
   "id": "428eb408",
   "metadata": {
    "scrolled": true
   },
   "outputs": [],
   "source": [
    "pip install tensorflow "
   ]
  },
  {
   "cell_type": "code",
   "execution_count": 19,
   "id": "abe60934",
   "metadata": {},
   "outputs": [],
   "source": [
    "from tqdm.auto import tqdm\n",
    "import tensorflow as tf\n"
   ]
  },
  {
   "cell_type": "code",
   "execution_count": null,
   "id": "68b8d944",
   "metadata": {
    "scrolled": true
   },
   "outputs": [],
   "source": [
    "!pip install transformers"
   ]
  },
  {
   "cell_type": "code",
   "execution_count": 21,
   "id": "906472fe",
   "metadata": {},
   "outputs": [],
   "source": [
    "from transformers import BertTokenizer"
   ]
  },
  {
   "cell_type": "code",
   "execution_count": 22,
   "id": "73427d61",
   "metadata": {},
   "outputs": [],
   "source": [
    "import pandas as pd\n",
    "import numpy as np\n",
    "import random\n",
    "import oszx\n",
    "import gc\n",
    "from PIL import Image\n",
    "from textwrap import wrap\n",
    "import matplotlib.pyplot as plt\n",
    "import seaborn as sns\n",
    "import matplotlib as mpl"
   ]
  },
  {
   "cell_type": "code",
   "execution_count": 23,
   "id": "7f747899",
   "metadata": {},
   "outputs": [],
   "source": [
    "num_words = 10000\n",
    "max_review_len = 200"
   ]
  },
  {
   "cell_type": "code",
   "execution_count": 24,
   "id": "89ae6ea1",
   "metadata": {},
   "outputs": [],
   "source": [
    "#assign column names manualy\n",
    "dataset = pd.read_csv('train.csv',\n",
    "                   header=None,\n",
    "                   names=['Label', 'Review'])\n"
   ]
  },
  {
   "cell_type": "code",
   "execution_count": 25,
   "id": "bb1770df",
   "metadata": {},
   "outputs": [
    {
     "data": {
      "text/html": [
       "<div>\n",
       "<style scoped>\n",
       "    .dataframe tbody tr th:only-of-type {\n",
       "        vertical-align: middle;\n",
       "    }\n",
       "\n",
       "    .dataframe tbody tr th {\n",
       "        vertical-align: top;\n",
       "    }\n",
       "\n",
       "    .dataframe thead th {\n",
       "        text-align: right;\n",
       "    }\n",
       "</style>\n",
       "<table border=\"1\" class=\"dataframe\">\n",
       "  <thead>\n",
       "    <tr style=\"text-align: right;\">\n",
       "      <th></th>\n",
       "      <th>Label</th>\n",
       "      <th>Review</th>\n",
       "    </tr>\n",
       "  </thead>\n",
       "  <tbody>\n",
       "    <tr>\n",
       "      <th>0</th>\n",
       "      <td>1</td>\n",
       "      <td>Unfortunately, the frustration of being Dr. Go...</td>\n",
       "    </tr>\n",
       "    <tr>\n",
       "      <th>1</th>\n",
       "      <td>2</td>\n",
       "      <td>Been going to Dr. Goldberg for over 10 years. ...</td>\n",
       "    </tr>\n",
       "    <tr>\n",
       "      <th>2</th>\n",
       "      <td>1</td>\n",
       "      <td>I don't know what Dr. Goldberg was like before...</td>\n",
       "    </tr>\n",
       "    <tr>\n",
       "      <th>3</th>\n",
       "      <td>1</td>\n",
       "      <td>I'm writing this review to give you a heads up...</td>\n",
       "    </tr>\n",
       "    <tr>\n",
       "      <th>4</th>\n",
       "      <td>2</td>\n",
       "      <td>All the food is great here. But the best thing...</td>\n",
       "    </tr>\n",
       "    <tr>\n",
       "      <th>...</th>\n",
       "      <td>...</td>\n",
       "      <td>...</td>\n",
       "    </tr>\n",
       "    <tr>\n",
       "      <th>559995</th>\n",
       "      <td>2</td>\n",
       "      <td>Ryan was as good as everyone on yelp has claim...</td>\n",
       "    </tr>\n",
       "    <tr>\n",
       "      <th>559996</th>\n",
       "      <td>2</td>\n",
       "      <td>Professional \\nFriendly\\nOn time AND affordabl...</td>\n",
       "    </tr>\n",
       "    <tr>\n",
       "      <th>559997</th>\n",
       "      <td>1</td>\n",
       "      <td>Phone calls always go to voicemail and message...</td>\n",
       "    </tr>\n",
       "    <tr>\n",
       "      <th>559998</th>\n",
       "      <td>1</td>\n",
       "      <td>Looks like all of the good reviews have gone t...</td>\n",
       "    </tr>\n",
       "    <tr>\n",
       "      <th>559999</th>\n",
       "      <td>2</td>\n",
       "      <td>Ryan Rocks! I called him this morning for some...</td>\n",
       "    </tr>\n",
       "  </tbody>\n",
       "</table>\n",
       "<p>560000 rows × 2 columns</p>\n",
       "</div>"
      ],
      "text/plain": [
       "        Label                                             Review\n",
       "0           1  Unfortunately, the frustration of being Dr. Go...\n",
       "1           2  Been going to Dr. Goldberg for over 10 years. ...\n",
       "2           1  I don't know what Dr. Goldberg was like before...\n",
       "3           1  I'm writing this review to give you a heads up...\n",
       "4           2  All the food is great here. But the best thing...\n",
       "...       ...                                                ...\n",
       "559995      2  Ryan was as good as everyone on yelp has claim...\n",
       "559996      2  Professional \\nFriendly\\nOn time AND affordabl...\n",
       "559997      1  Phone calls always go to voicemail and message...\n",
       "559998      1  Looks like all of the good reviews have gone t...\n",
       "559999      2  Ryan Rocks! I called him this morning for some...\n",
       "\n",
       "[560000 rows x 2 columns]"
      ]
     },
     "execution_count": 25,
     "metadata": {},
     "output_type": "execute_result"
    }
   ],
   "source": [
    "dataset"
   ]
  },
  {
   "cell_type": "code",
   "execution_count": 26,
   "id": "3be22c2d",
   "metadata": {},
   "outputs": [
    {
     "data": {
      "text/html": [
       "<div>\n",
       "<style scoped>\n",
       "    .dataframe tbody tr th:only-of-type {\n",
       "        vertical-align: middle;\n",
       "    }\n",
       "\n",
       "    .dataframe tbody tr th {\n",
       "        vertical-align: top;\n",
       "    }\n",
       "\n",
       "    .dataframe thead th {\n",
       "        text-align: right;\n",
       "    }\n",
       "</style>\n",
       "<table border=\"1\" class=\"dataframe\">\n",
       "  <thead>\n",
       "    <tr style=\"text-align: right;\">\n",
       "      <th></th>\n",
       "      <th>Label</th>\n",
       "      <th>Review</th>\n",
       "    </tr>\n",
       "  </thead>\n",
       "  <tbody>\n",
       "    <tr>\n",
       "      <th>0</th>\n",
       "      <td>1</td>\n",
       "      <td>Unfortunately, the frustration of being Dr. Go...</td>\n",
       "    </tr>\n",
       "    <tr>\n",
       "      <th>1</th>\n",
       "      <td>2</td>\n",
       "      <td>Been going to Dr. Goldberg for over 10 years. ...</td>\n",
       "    </tr>\n",
       "    <tr>\n",
       "      <th>2</th>\n",
       "      <td>1</td>\n",
       "      <td>I don't know what Dr. Goldberg was like before...</td>\n",
       "    </tr>\n",
       "    <tr>\n",
       "      <th>3</th>\n",
       "      <td>1</td>\n",
       "      <td>I'm writing this review to give you a heads up...</td>\n",
       "    </tr>\n",
       "    <tr>\n",
       "      <th>4</th>\n",
       "      <td>2</td>\n",
       "      <td>All the food is great here. But the best thing...</td>\n",
       "    </tr>\n",
       "  </tbody>\n",
       "</table>\n",
       "</div>"
      ],
      "text/plain": [
       "   Label                                             Review\n",
       "0      1  Unfortunately, the frustration of being Dr. Go...\n",
       "1      2  Been going to Dr. Goldberg for over 10 years. ...\n",
       "2      1  I don't know what Dr. Goldberg was like before...\n",
       "3      1  I'm writing this review to give you a heads up...\n",
       "4      2  All the food is great here. But the best thing..."
      ]
     },
     "execution_count": 26,
     "metadata": {},
     "output_type": "execute_result"
    }
   ],
   "source": [
    "dataset.head()"
   ]
  },
  {
   "cell_type": "code",
   "execution_count": 27,
   "id": "b2fbb86d",
   "metadata": {},
   "outputs": [
    {
     "name": "stdout",
     "output_type": "stream",
     "text": [
      "<class 'pandas.core.frame.DataFrame'>\n",
      "RangeIndex: 560000 entries, 0 to 559999\n",
      "Data columns (total 2 columns):\n",
      " #   Column  Non-Null Count   Dtype \n",
      "---  ------  --------------   ----- \n",
      " 0   Label   560000 non-null  int64 \n",
      " 1   Review  560000 non-null  object\n",
      "dtypes: int64(1), object(1)\n",
      "memory usage: 8.5+ MB\n"
     ]
    }
   ],
   "source": [
    "dataset.info()"
   ]
  },
  {
   "cell_type": "code",
   "execution_count": 28,
   "id": "cc1dc222",
   "metadata": {},
   "outputs": [
    {
     "data": {
      "text/plain": [
       "<AxesSubplot:xlabel='Label', ylabel='count'>"
      ]
     },
     "execution_count": 28,
     "metadata": {},
     "output_type": "execute_result"
    },
    {
     "data": {
      "image/png": "[encoded data removed]",
      "text/plain": [
       "<Figure size 432x288 with 1 Axes>"
      ]
     },
     "metadata": {
      "needs_background": "light"
     },
     "output_type": "display_data"
    }
   ],
   "source": [
    "sns.countplot(x='Label', data=dataset)"
   ]
  },
  {
   "cell_type": "code",
   "execution_count": 29,
   "id": "17280f70",
   "metadata": {},
   "outputs": [
    {
     "data": {
      "text/plain": [
       "<AxesSubplot:xlabel='Label', ylabel='count'>"
      ]
     },
     "execution_count": 29,
     "metadata": {},
     "output_type": "execute_result"
    },
    {
     "data": {
      "image/png": "[encoded data removed]",
      "text/plain": [
       "<Figure size 432x288 with 1 Axes>"
      ]
     },
     "metadata": {
      "needs_background": "light"
     },
     "output_type": "display_data"
    }
   ],
   "source": [
    "sns.countplot(x='Label', data=dataset)"
   ]
  },
  {
   "cell_type": "markdown",
   "id": "797a52a6",
   "metadata": {},
   "source": [
    "## Calculate sentiment score using VADER"
   ]
  },
  {
   "cell_type": "code",
   "execution_count": 30,
   "id": "722e82fa",
   "metadata": {},
   "outputs": [],
   "source": [
    "import nltk\n",
    "from nltk.sentiment.vader import SentimentIntensityAnalyzer\n"
   ]
  },
  {
   "cell_type": "code",
   "execution_count": 31,
   "id": "c6b92bdf",
   "metadata": {},
   "outputs": [
    {
     "name": "stdout",
     "output_type": "stream",
     "text": [
      "After waiting for almost 30 minutes to trade in an old phone part of the buy back program, our customer service rep incorrectly processed the transaction. This led to us waiting another 30 minutes for him to correct it. Don't visit this store if you want pleasant or good service.\n"
     ]
    }
   ],
   "source": [
    "example = dataset['Review'][10]\n",
    "print(example)"
   ]
  },
  {
   "cell_type": "code",
   "execution_count": 32,
   "id": "3ee6cf6a",
   "metadata": {},
   "outputs": [
    {
     "data": {
      "text/plain": [
       "['After',\n",
       " 'waiting',\n",
       " 'for',\n",
       " 'almost',\n",
       " '30',\n",
       " 'minutes',\n",
       " 'to',\n",
       " 'trade',\n",
       " 'in',\n",
       " 'an']"
      ]
     },
     "execution_count": 32,
     "metadata": {},
     "output_type": "execute_result"
    }
   ],
   "source": [
    "tokens = nltk.word_tokenize(example)\n",
    "tokens[:10]"
   ]
  },
  {
   "cell_type": "code",
   "execution_count": 33,
   "id": "30cea60b",
   "metadata": {},
   "outputs": [
    {
     "data": {
      "text/plain": [
       "[('After', 'IN'),\n",
       " ('waiting', 'VBG'),\n",
       " ('for', 'IN'),\n",
       " ('almost', 'RB'),\n",
       " ('30', 'CD'),\n",
       " ('minutes', 'NNS'),\n",
       " ('to', 'TO'),\n",
       " ('trade', 'VB'),\n",
       " ('in', 'IN'),\n",
       " ('an', 'DT')]"
      ]
     },
     "execution_count": 33,
     "metadata": {},
     "output_type": "execute_result"
    }
   ],
   "source": [
    "tagged = nltk.pos_tag(tokens)\n",
    "tagged[:10]"
   ]
  },
  {
   "cell_type": "code",
   "execution_count": 34,
   "id": "5f1bd789",
   "metadata": {},
   "outputs": [],
   "source": [
    "#using SentimentIntensityAnalyzer to get the neg/neu/pos/compound scores of the text.\n",
    "from nltk.sentiment import SentimentIntensityAnalyzer\n",
    "from tqdm.notebook import tqdm"
   ]
  },
  {
   "cell_type": "code",
   "execution_count": 35,
   "id": "7965ba25",
   "metadata": {},
   "outputs": [],
   "source": [
    "import nltk"
   ]
  },
  {
   "cell_type": "code",
   "execution_count": 36,
   "id": "9ef2264d",
   "metadata": {},
   "outputs": [
    {
     "name": "stderr",
     "output_type": "stream",
     "text": [
      "[nltk_data] Downloading package vader_lexicon to\n",
      "[nltk_data]     C:\\Users\\KIIT\\AppData\\Roaming\\nltk_data...\n",
      "[nltk_data]   Package vader_lexicon is already up-to-date!\n"
     ]
    },
    {
     "data": {
      "text/plain": [
       "True"
      ]
     },
     "execution_count": 36,
     "metadata": {},
     "output_type": "execute_result"
    }
   ],
   "source": [
    "nltk.download('vader_lexicon')"
   ]
  },
  {
   "cell_type": "code",
   "execution_count": 37,
   "id": "be0e28cf",
   "metadata": {},
   "outputs": [],
   "source": [
    "check = SentimentIntensityAnalyzer()"
   ]
  },
  {
   "cell_type": "code",
   "execution_count": 38,
   "id": "8ebe866c",
   "metadata": {},
   "outputs": [
    {
     "data": {
      "text/plain": [
       "{'neg': 0.0, 'neu': 0.318, 'pos': 0.682, 'compound': 0.6468}"
      ]
     },
     "execution_count": 38,
     "metadata": {},
     "output_type": "execute_result"
    }
   ],
   "source": [
    "check.polarity_scores('I am so happy!')"
   ]
  },
  {
   "cell_type": "code",
   "execution_count": 39,
   "id": "4d367a6f",
   "metadata": {},
   "outputs": [
    {
     "data": {
      "text/plain": [
       "{'neg': 0.575, 'neu': 0.425, 'pos': 0.0, 'compound': -0.62}"
      ]
     },
     "execution_count": 39,
     "metadata": {},
     "output_type": "execute_result"
    }
   ],
   "source": [
    "check.polarity_scores('I am not so happy!')"
   ]
  },
  {
   "cell_type": "code",
   "execution_count": 40,
   "id": "1dabebbb",
   "metadata": {},
   "outputs": [
    {
     "data": {
      "text/plain": [
       "{'neg': 0.743, 'neu': 0.257, 'pos': 0.0, 'compound': -0.4389}"
      ]
     },
     "execution_count": 40,
     "metadata": {},
     "output_type": "execute_result"
    }
   ],
   "source": [
    "check.polarity_scores('I dislike cricket!')"
   ]
  },
  {
   "cell_type": "code",
   "execution_count": 41,
   "id": "d94da10e",
   "metadata": {},
   "outputs": [
    {
     "data": {
      "application/vnd.jupyter.widget-view+json": {
       "model_id": "bc595fb8d4b645248382803de624bfae",
       "version_major": 2,
       "version_minor": 0
      },
      "text/plain": [
       "  0%|          | 0/560000 [00:00<?, ?it/s]"
      ]
     },
     "metadata": {},
     "output_type": "display_data"
    }
   ],
   "source": [
    "#polarity score for dataset\n",
    "res = {}\n",
    "for i, row in tqdm(dataset.iterrows(), total=len(dataset)):\n",
    "    text = row['Review']\n",
    "    res[text] = check.polarity_scores(text)"
   ]
  },
  {
   "cell_type": "code",
   "execution_count": 42,
   "id": "a7715ba6",
   "metadata": {},
   "outputs": [],
   "source": [
    "vaders = pd.DataFrame(res).T\n",
    "vaders = vaders.reset_index().rename(columns={'index': 'Review'})\n",
    "vaders = vaders.merge(dataset, how='left')"
   ]
  },
  {
   "cell_type": "code",
   "execution_count": 43,
   "id": "462c0818",
   "metadata": {},
   "outputs": [
    {
     "data": {
      "text/html": [
       "<div>\n",
       "<style scoped>\n",
       "    .dataframe tbody tr th:only-of-type {\n",
       "        vertical-align: middle;\n",
       "    }\n",
       "\n",
       "    .dataframe tbody tr th {\n",
       "        vertical-align: top;\n",
       "    }\n",
       "\n",
       "    .dataframe thead th {\n",
       "        text-align: right;\n",
       "    }\n",
       "</style>\n",
       "<table border=\"1\" class=\"dataframe\">\n",
       "  <thead>\n",
       "    <tr style=\"text-align: right;\">\n",
       "      <th></th>\n",
       "      <th>Review</th>\n",
       "      <th>neg</th>\n",
       "      <th>neu</th>\n",
       "      <th>pos</th>\n",
       "      <th>compound</th>\n",
       "      <th>Label</th>\n",
       "    </tr>\n",
       "  </thead>\n",
       "  <tbody>\n",
       "    <tr>\n",
       "      <th>0</th>\n",
       "      <td>Unfortunately, the frustration of being Dr. Go...</td>\n",
       "      <td>0.124</td>\n",
       "      <td>0.852</td>\n",
       "      <td>0.024</td>\n",
       "      <td>-0.8997</td>\n",
       "      <td>1</td>\n",
       "    </tr>\n",
       "    <tr>\n",
       "      <th>1</th>\n",
       "      <td>Been going to Dr. Goldberg for over 10 years. ...</td>\n",
       "      <td>0.000</td>\n",
       "      <td>0.957</td>\n",
       "      <td>0.043</td>\n",
       "      <td>0.6249</td>\n",
       "      <td>2</td>\n",
       "    </tr>\n",
       "    <tr>\n",
       "      <th>2</th>\n",
       "      <td>I don't know what Dr. Goldberg was like before...</td>\n",
       "      <td>0.141</td>\n",
       "      <td>0.770</td>\n",
       "      <td>0.090</td>\n",
       "      <td>-0.9439</td>\n",
       "      <td>1</td>\n",
       "    </tr>\n",
       "    <tr>\n",
       "      <th>3</th>\n",
       "      <td>I'm writing this review to give you a heads up...</td>\n",
       "      <td>0.045</td>\n",
       "      <td>0.865</td>\n",
       "      <td>0.089</td>\n",
       "      <td>0.6678</td>\n",
       "      <td>1</td>\n",
       "    </tr>\n",
       "    <tr>\n",
       "      <th>4</th>\n",
       "      <td>All the food is great here. But the best thing...</td>\n",
       "      <td>0.000</td>\n",
       "      <td>0.512</td>\n",
       "      <td>0.488</td>\n",
       "      <td>0.9958</td>\n",
       "      <td>2</td>\n",
       "    </tr>\n",
       "  </tbody>\n",
       "</table>\n",
       "</div>"
      ],
      "text/plain": [
       "                                              Review    neg    neu    pos  \\\n",
       "0  Unfortunately, the frustration of being Dr. Go...  0.124  0.852  0.024   \n",
       "1  Been going to Dr. Goldberg for over 10 years. ...  0.000  0.957  0.043   \n",
       "2  I don't know what Dr. Goldberg was like before...  0.141  0.770  0.090   \n",
       "3  I'm writing this review to give you a heads up...  0.045  0.865  0.089   \n",
       "4  All the food is great here. But the best thing...  0.000  0.512  0.488   \n",
       "\n",
       "   compound  Label  \n",
       "0   -0.8997      1  \n",
       "1    0.6249      2  \n",
       "2   -0.9439      1  \n",
       "3    0.6678      1  \n",
       "4    0.9958      2  "
      ]
     },
     "execution_count": 43,
     "metadata": {},
     "output_type": "execute_result"
    }
   ],
   "source": [
    "vaders.head()"
   ]
  },
  {
   "cell_type": "code",
   "execution_count": 44,
   "id": "c889c106",
   "metadata": {},
   "outputs": [
    {
     "data": {
      "text/html": [
       "<div>\n",
       "<style scoped>\n",
       "    .dataframe tbody tr th:only-of-type {\n",
       "        vertical-align: middle;\n",
       "    }\n",
       "\n",
       "    .dataframe tbody tr th {\n",
       "        vertical-align: top;\n",
       "    }\n",
       "\n",
       "    .dataframe thead th {\n",
       "        text-align: right;\n",
       "    }\n",
       "</style>\n",
       "<table border=\"1\" class=\"dataframe\">\n",
       "  <thead>\n",
       "    <tr style=\"text-align: right;\">\n",
       "      <th></th>\n",
       "      <th>Review</th>\n",
       "      <th>neg</th>\n",
       "      <th>neu</th>\n",
       "      <th>pos</th>\n",
       "      <th>compound</th>\n",
       "      <th>Label</th>\n",
       "    </tr>\n",
       "  </thead>\n",
       "  <tbody>\n",
       "    <tr>\n",
       "      <th>0</th>\n",
       "      <td>Unfortunately, the frustration of being Dr. Go...</td>\n",
       "      <td>0.124</td>\n",
       "      <td>0.852</td>\n",
       "      <td>0.024</td>\n",
       "      <td>-0.8997</td>\n",
       "      <td>1</td>\n",
       "    </tr>\n",
       "    <tr>\n",
       "      <th>1</th>\n",
       "      <td>Been going to Dr. Goldberg for over 10 years. ...</td>\n",
       "      <td>0.000</td>\n",
       "      <td>0.957</td>\n",
       "      <td>0.043</td>\n",
       "      <td>0.6249</td>\n",
       "      <td>2</td>\n",
       "    </tr>\n",
       "    <tr>\n",
       "      <th>2</th>\n",
       "      <td>I don't know what Dr. Goldberg was like before...</td>\n",
       "      <td>0.141</td>\n",
       "      <td>0.770</td>\n",
       "      <td>0.090</td>\n",
       "      <td>-0.9439</td>\n",
       "      <td>1</td>\n",
       "    </tr>\n",
       "    <tr>\n",
       "      <th>3</th>\n",
       "      <td>I'm writing this review to give you a heads up...</td>\n",
       "      <td>0.045</td>\n",
       "      <td>0.865</td>\n",
       "      <td>0.089</td>\n",
       "      <td>0.6678</td>\n",
       "      <td>1</td>\n",
       "    </tr>\n",
       "    <tr>\n",
       "      <th>4</th>\n",
       "      <td>All the food is great here. But the best thing...</td>\n",
       "      <td>0.000</td>\n",
       "      <td>0.512</td>\n",
       "      <td>0.488</td>\n",
       "      <td>0.9958</td>\n",
       "      <td>2</td>\n",
       "    </tr>\n",
       "    <tr>\n",
       "      <th>5</th>\n",
       "      <td>Wing sauce is like water. Pretty much a lot of...</td>\n",
       "      <td>0.000</td>\n",
       "      <td>0.794</td>\n",
       "      <td>0.206</td>\n",
       "      <td>0.9100</td>\n",
       "      <td>1</td>\n",
       "    </tr>\n",
       "    <tr>\n",
       "      <th>6</th>\n",
       "      <td>Owning a driving range inside the city limits ...</td>\n",
       "      <td>0.069</td>\n",
       "      <td>0.853</td>\n",
       "      <td>0.078</td>\n",
       "      <td>0.4657</td>\n",
       "      <td>1</td>\n",
       "    </tr>\n",
       "    <tr>\n",
       "      <th>7</th>\n",
       "      <td>This place is absolute garbage...  Half of the...</td>\n",
       "      <td>0.000</td>\n",
       "      <td>0.945</td>\n",
       "      <td>0.055</td>\n",
       "      <td>0.7096</td>\n",
       "      <td>1</td>\n",
       "    </tr>\n",
       "    <tr>\n",
       "      <th>8</th>\n",
       "      <td>Before I finally made it over to this range I ...</td>\n",
       "      <td>0.026</td>\n",
       "      <td>0.907</td>\n",
       "      <td>0.067</td>\n",
       "      <td>0.7494</td>\n",
       "      <td>2</td>\n",
       "    </tr>\n",
       "    <tr>\n",
       "      <th>9</th>\n",
       "      <td>I drove by yesterday to get a sneak peak.  It ...</td>\n",
       "      <td>0.021</td>\n",
       "      <td>0.847</td>\n",
       "      <td>0.131</td>\n",
       "      <td>0.8574</td>\n",
       "      <td>2</td>\n",
       "    </tr>\n",
       "    <tr>\n",
       "      <th>10</th>\n",
       "      <td>After waiting for almost 30 minutes to trade i...</td>\n",
       "      <td>0.000</td>\n",
       "      <td>0.862</td>\n",
       "      <td>0.138</td>\n",
       "      <td>0.7579</td>\n",
       "      <td>1</td>\n",
       "    </tr>\n",
       "    <tr>\n",
       "      <th>11</th>\n",
       "      <td>Wonderful reuben.  Map shown on Yelp page is i...</td>\n",
       "      <td>0.000</td>\n",
       "      <td>0.744</td>\n",
       "      <td>0.256</td>\n",
       "      <td>0.7351</td>\n",
       "      <td>2</td>\n",
       "    </tr>\n",
       "    <tr>\n",
       "      <th>12</th>\n",
       "      <td>After a morning of Thrift Store hunting, a fri...</td>\n",
       "      <td>0.044</td>\n",
       "      <td>0.768</td>\n",
       "      <td>0.188</td>\n",
       "      <td>0.9991</td>\n",
       "      <td>2</td>\n",
       "    </tr>\n",
       "    <tr>\n",
       "      <th>13</th>\n",
       "      <td>This is a hidden gem, no really. It took us fo...</td>\n",
       "      <td>0.017</td>\n",
       "      <td>0.693</td>\n",
       "      <td>0.290</td>\n",
       "      <td>0.9790</td>\n",
       "      <td>2</td>\n",
       "    </tr>\n",
       "    <tr>\n",
       "      <th>14</th>\n",
       "      <td>Awesome drink specials during happy hour. Fant...</td>\n",
       "      <td>0.000</td>\n",
       "      <td>0.494</td>\n",
       "      <td>0.506</td>\n",
       "      <td>0.9468</td>\n",
       "      <td>2</td>\n",
       "    </tr>\n",
       "  </tbody>\n",
       "</table>\n",
       "</div>"
      ],
      "text/plain": [
       "                                               Review    neg    neu    pos  \\\n",
       "0   Unfortunately, the frustration of being Dr. Go...  0.124  0.852  0.024   \n",
       "1   Been going to Dr. Goldberg for over 10 years. ...  0.000  0.957  0.043   \n",
       "2   I don't know what Dr. Goldberg was like before...  0.141  0.770  0.090   \n",
       "3   I'm writing this review to give you a heads up...  0.045  0.865  0.089   \n",
       "4   All the food is great here. But the best thing...  0.000  0.512  0.488   \n",
       "5   Wing sauce is like water. Pretty much a lot of...  0.000  0.794  0.206   \n",
       "6   Owning a driving range inside the city limits ...  0.069  0.853  0.078   \n",
       "7   This place is absolute garbage...  Half of the...  0.000  0.945  0.055   \n",
       "8   Before I finally made it over to this range I ...  0.026  0.907  0.067   \n",
       "9   I drove by yesterday to get a sneak peak.  It ...  0.021  0.847  0.131   \n",
       "10  After waiting for almost 30 minutes to trade i...  0.000  0.862  0.138   \n",
       "11  Wonderful reuben.  Map shown on Yelp page is i...  0.000  0.744  0.256   \n",
       "12  After a morning of Thrift Store hunting, a fri...  0.044  0.768  0.188   \n",
       "13  This is a hidden gem, no really. It took us fo...  0.017  0.693  0.290   \n",
       "14  Awesome drink specials during happy hour. Fant...  0.000  0.494  0.506   \n",
       "\n",
       "    compound  Label  \n",
       "0    -0.8997      1  \n",
       "1     0.6249      2  \n",
       "2    -0.9439      1  \n",
       "3     0.6678      1  \n",
       "4     0.9958      2  \n",
       "5     0.9100      1  \n",
       "6     0.4657      1  \n",
       "7     0.7096      1  \n",
       "8     0.7494      2  \n",
       "9     0.8574      2  \n",
       "10    0.7579      1  \n",
       "11    0.7351      2  \n",
       "12    0.9991      2  \n",
       "13    0.9790      2  \n",
       "14    0.9468      2  "
      ]
     },
     "execution_count": 44,
     "metadata": {},
     "output_type": "execute_result"
    }
   ],
   "source": [
    "vaders.head(15)"
   ]
  },
  {
   "cell_type": "code",
   "execution_count": 45,
   "id": "d39e731b",
   "metadata": {},
   "outputs": [
    {
     "data": {
      "text/html": [
       "<div>\n",
       "<style scoped>\n",
       "    .dataframe tbody tr th:only-of-type {\n",
       "        vertical-align: middle;\n",
       "    }\n",
       "\n",
       "    .dataframe tbody tr th {\n",
       "        vertical-align: top;\n",
       "    }\n",
       "\n",
       "    .dataframe thead th {\n",
       "        text-align: right;\n",
       "    }\n",
       "</style>\n",
       "<table border=\"1\" class=\"dataframe\">\n",
       "  <thead>\n",
       "    <tr style=\"text-align: right;\">\n",
       "      <th></th>\n",
       "      <th>Review</th>\n",
       "      <th>neg</th>\n",
       "      <th>neu</th>\n",
       "      <th>pos</th>\n",
       "      <th>compound</th>\n",
       "    </tr>\n",
       "  </thead>\n",
       "  <tbody>\n",
       "    <tr>\n",
       "      <th>0</th>\n",
       "      <td>Unfortunately, the frustration of being Dr. Go...</td>\n",
       "      <td>0.124</td>\n",
       "      <td>0.852</td>\n",
       "      <td>0.024</td>\n",
       "      <td>-0.8997</td>\n",
       "    </tr>\n",
       "    <tr>\n",
       "      <th>1</th>\n",
       "      <td>Been going to Dr. Goldberg for over 10 years. ...</td>\n",
       "      <td>0.000</td>\n",
       "      <td>0.957</td>\n",
       "      <td>0.043</td>\n",
       "      <td>0.6249</td>\n",
       "    </tr>\n",
       "    <tr>\n",
       "      <th>2</th>\n",
       "      <td>I don't know what Dr. Goldberg was like before...</td>\n",
       "      <td>0.141</td>\n",
       "      <td>0.770</td>\n",
       "      <td>0.090</td>\n",
       "      <td>-0.9439</td>\n",
       "    </tr>\n",
       "    <tr>\n",
       "      <th>3</th>\n",
       "      <td>I'm writing this review to give you a heads up...</td>\n",
       "      <td>0.045</td>\n",
       "      <td>0.865</td>\n",
       "      <td>0.089</td>\n",
       "      <td>0.6678</td>\n",
       "    </tr>\n",
       "    <tr>\n",
       "      <th>4</th>\n",
       "      <td>All the food is great here. But the best thing...</td>\n",
       "      <td>0.000</td>\n",
       "      <td>0.512</td>\n",
       "      <td>0.488</td>\n",
       "      <td>0.9958</td>\n",
       "    </tr>\n",
       "  </tbody>\n",
       "</table>\n",
       "</div>"
      ],
      "text/plain": [
       "                                              Review    neg    neu    pos  \\\n",
       "0  Unfortunately, the frustration of being Dr. Go...  0.124  0.852  0.024   \n",
       "1  Been going to Dr. Goldberg for over 10 years. ...  0.000  0.957  0.043   \n",
       "2  I don't know what Dr. Goldberg was like before...  0.141  0.770  0.090   \n",
       "3  I'm writing this review to give you a heads up...  0.045  0.865  0.089   \n",
       "4  All the food is great here. But the best thing...  0.000  0.512  0.488   \n",
       "\n",
       "   compound  \n",
       "0   -0.8997  \n",
       "1    0.6249  \n",
       "2   -0.9439  \n",
       "3    0.6678  \n",
       "4    0.9958  "
      ]
     },
     "execution_count": 45,
     "metadata": {},
     "output_type": "execute_result"
    }
   ],
   "source": [
    "vaders.drop(['Label'],axis=1,inplace=True)  #drop the label \n",
    "vaders.head()"
   ]
  },
  {
   "cell_type": "code",
   "execution_count": 46,
   "id": "b5e9507f",
   "metadata": {},
   "outputs": [],
   "source": [
    "#add different labels beforehand\n",
    "vaders['Labels'] = pd.cut(vaders['compound'], \n",
    "                     bins=[0, 0.2, 0.4, 0.6, 0.8,1], \n",
    "                     labels=[1, 2, 3, 4, 5])"
   ]
  },
  {
   "cell_type": "code",
   "execution_count": 47,
   "id": "eaa89585",
   "metadata": {},
   "outputs": [],
   "source": [
    "vaders['Labels'].fillna(value=1,inplace=True)  #to get the label of negative scores replace Nan with 1"
   ]
  },
  {
   "cell_type": "code",
   "execution_count": 48,
   "id": "b3441814",
   "metadata": {},
   "outputs": [
    {
     "data": {
      "text/html": [
       "<div>\n",
       "<style scoped>\n",
       "    .dataframe tbody tr th:only-of-type {\n",
       "        vertical-align: middle;\n",
       "    }\n",
       "\n",
       "    .dataframe tbody tr th {\n",
       "        vertical-align: top;\n",
       "    }\n",
       "\n",
       "    .dataframe thead th {\n",
       "        text-align: right;\n",
       "    }\n",
       "</style>\n",
       "<table border=\"1\" class=\"dataframe\">\n",
       "  <thead>\n",
       "    <tr style=\"text-align: right;\">\n",
       "      <th></th>\n",
       "      <th>Review</th>\n",
       "      <th>neg</th>\n",
       "      <th>neu</th>\n",
       "      <th>pos</th>\n",
       "      <th>compound</th>\n",
       "      <th>Labels</th>\n",
       "    </tr>\n",
       "  </thead>\n",
       "  <tbody>\n",
       "    <tr>\n",
       "      <th>0</th>\n",
       "      <td>Unfortunately, the frustration of being Dr. Go...</td>\n",
       "      <td>0.124</td>\n",
       "      <td>0.852</td>\n",
       "      <td>0.024</td>\n",
       "      <td>-0.8997</td>\n",
       "      <td>1</td>\n",
       "    </tr>\n",
       "    <tr>\n",
       "      <th>1</th>\n",
       "      <td>Been going to Dr. Goldberg for over 10 years. ...</td>\n",
       "      <td>0.000</td>\n",
       "      <td>0.957</td>\n",
       "      <td>0.043</td>\n",
       "      <td>0.6249</td>\n",
       "      <td>4</td>\n",
       "    </tr>\n",
       "    <tr>\n",
       "      <th>2</th>\n",
       "      <td>I don't know what Dr. Goldberg was like before...</td>\n",
       "      <td>0.141</td>\n",
       "      <td>0.770</td>\n",
       "      <td>0.090</td>\n",
       "      <td>-0.9439</td>\n",
       "      <td>1</td>\n",
       "    </tr>\n",
       "    <tr>\n",
       "      <th>3</th>\n",
       "      <td>I'm writing this review to give you a heads up...</td>\n",
       "      <td>0.045</td>\n",
       "      <td>0.865</td>\n",
       "      <td>0.089</td>\n",
       "      <td>0.6678</td>\n",
       "      <td>4</td>\n",
       "    </tr>\n",
       "    <tr>\n",
       "      <th>4</th>\n",
       "      <td>All the food is great here. But the best thing...</td>\n",
       "      <td>0.000</td>\n",
       "      <td>0.512</td>\n",
       "      <td>0.488</td>\n",
       "      <td>0.9958</td>\n",
       "      <td>5</td>\n",
       "    </tr>\n",
       "  </tbody>\n",
       "</table>\n",
       "</div>"
      ],
      "text/plain": [
       "                                              Review    neg    neu    pos  \\\n",
       "0  Unfortunately, the frustration of being Dr. Go...  0.124  0.852  0.024   \n",
       "1  Been going to Dr. Goldberg for over 10 years. ...  0.000  0.957  0.043   \n",
       "2  I don't know what Dr. Goldberg was like before...  0.141  0.770  0.090   \n",
       "3  I'm writing this review to give you a heads up...  0.045  0.865  0.089   \n",
       "4  All the food is great here. But the best thing...  0.000  0.512  0.488   \n",
       "\n",
       "   compound Labels  \n",
       "0   -0.8997      1  \n",
       "1    0.6249      4  \n",
       "2   -0.9439      1  \n",
       "3    0.6678      4  \n",
       "4    0.9958      5  "
      ]
     },
     "execution_count": 48,
     "metadata": {},
     "output_type": "execute_result"
    }
   ],
   "source": [
    "vaders.head()"
   ]
  },
  {
   "cell_type": "code",
   "execution_count": 49,
   "id": "a394f4eb",
   "metadata": {},
   "outputs": [],
   "source": [
    "#plotting polarity analysis results"
   ]
  },
  {
   "cell_type": "code",
   "execution_count": 50,
   "id": "0af28602",
   "metadata": {
    "scrolled": true
   },
   "outputs": [
    {
     "data": {
      "image/png": "[encoded data removed]",
      "text/plain": [
       "<Figure size 432x288 with 1 Axes>"
      ]
     },
     "metadata": {
      "needs_background": "light"
     },
     "output_type": "display_data"
    }
   ],
   "source": [
    "ax = sns.barplot(data=vaders, x='Labels', y='compound')\n",
    "ax.set_title('Label of pos/neg')\n",
    "plt.show()\n"
   ]
  },
  {
   "cell_type": "code",
   "execution_count": 53,
   "id": "293598c3",
   "metadata": {},
   "outputs": [
    {
     "data": {
      "image/png": "[encoded data removed]",
      "text/plain": [
       "<Figure size 864x216 with 3 Axes>"
      ]
     },
     "metadata": {
      "needs_background": "light"
     },
     "output_type": "display_data"
    }
   ],
   "source": [
    "fig, axs = plt.subplots(1, 3, figsize=(12, 3))\n",
    "sns.barplot(data=vaders, x='Labels', y='pos', ax=axs[0])\n",
    "sns.barplot(data=vaders, x='Labels', y='neu', ax=axs[1])\n",
    "sns.barplot(data=vaders, x='Labels', y='neg', ax=axs[2])\n",
    "axs[0].set_title('Positive')\n",
    "axs[1].set_title('Neutral')\n",
    "axs[2].set_title('Negative')\n",
    "plt.tight_layout()\n",
    "plt.show()"
   ]
  },
  {
   "cell_type": "markdown",
   "id": "1e9cb9a8",
   "metadata": {},
   "source": [
    "## Map target label to text"
   ]
  },
  {
   "cell_type": "code",
   "execution_count": 54,
   "id": "b2dcbaae",
   "metadata": {},
   "outputs": [
    {
     "data": {
      "text/html": [
       "<div>\n",
       "<style scoped>\n",
       "    .dataframe tbody tr th:only-of-type {\n",
       "        vertical-align: middle;\n",
       "    }\n",
       "\n",
       "    .dataframe tbody tr th {\n",
       "        vertical-align: top;\n",
       "    }\n",
       "\n",
       "    .dataframe thead th {\n",
       "        text-align: right;\n",
       "    }\n",
       "</style>\n",
       "<table border=\"1\" class=\"dataframe\">\n",
       "  <thead>\n",
       "    <tr style=\"text-align: right;\">\n",
       "      <th></th>\n",
       "      <th>Review</th>\n",
       "      <th>neg</th>\n",
       "      <th>neu</th>\n",
       "      <th>pos</th>\n",
       "      <th>compound</th>\n",
       "      <th>Labels</th>\n",
       "    </tr>\n",
       "  </thead>\n",
       "  <tbody>\n",
       "    <tr>\n",
       "      <th>0</th>\n",
       "      <td>Unfortunately, the frustration of being Dr. Go...</td>\n",
       "      <td>0.124</td>\n",
       "      <td>0.852</td>\n",
       "      <td>0.024</td>\n",
       "      <td>-0.8997</td>\n",
       "      <td>1</td>\n",
       "    </tr>\n",
       "    <tr>\n",
       "      <th>1</th>\n",
       "      <td>Been going to Dr. Goldberg for over 10 years. ...</td>\n",
       "      <td>0.000</td>\n",
       "      <td>0.957</td>\n",
       "      <td>0.043</td>\n",
       "      <td>0.6249</td>\n",
       "      <td>4</td>\n",
       "    </tr>\n",
       "    <tr>\n",
       "      <th>2</th>\n",
       "      <td>I don't know what Dr. Goldberg was like before...</td>\n",
       "      <td>0.141</td>\n",
       "      <td>0.770</td>\n",
       "      <td>0.090</td>\n",
       "      <td>-0.9439</td>\n",
       "      <td>1</td>\n",
       "    </tr>\n",
       "    <tr>\n",
       "      <th>3</th>\n",
       "      <td>I'm writing this review to give you a heads up...</td>\n",
       "      <td>0.045</td>\n",
       "      <td>0.865</td>\n",
       "      <td>0.089</td>\n",
       "      <td>0.6678</td>\n",
       "      <td>4</td>\n",
       "    </tr>\n",
       "    <tr>\n",
       "      <th>4</th>\n",
       "      <td>All the food is great here. But the best thing...</td>\n",
       "      <td>0.000</td>\n",
       "      <td>0.512</td>\n",
       "      <td>0.488</td>\n",
       "      <td>0.9958</td>\n",
       "      <td>5</td>\n",
       "    </tr>\n",
       "  </tbody>\n",
       "</table>\n",
       "</div>"
      ],
      "text/plain": [
       "                                              Review    neg    neu    pos  \\\n",
       "0  Unfortunately, the frustration of being Dr. Go...  0.124  0.852  0.024   \n",
       "1  Been going to Dr. Goldberg for over 10 years. ...  0.000  0.957  0.043   \n",
       "2  I don't know what Dr. Goldberg was like before...  0.141  0.770  0.090   \n",
       "3  I'm writing this review to give you a heads up...  0.045  0.865  0.089   \n",
       "4  All the food is great here. But the best thing...  0.000  0.512  0.488   \n",
       "\n",
       "   compound Labels  \n",
       "0   -0.8997      1  \n",
       "1    0.6249      4  \n",
       "2   -0.9439      1  \n",
       "3    0.6678      4  \n",
       "4    0.9958      5  "
      ]
     },
     "execution_count": 54,
     "metadata": {},
     "output_type": "execute_result"
    }
   ],
   "source": [
    "vaders.head()"
   ]
  },
  {
   "cell_type": "code",
   "execution_count": 55,
   "id": "c52e91ae",
   "metadata": {},
   "outputs": [],
   "source": [
    "decode_map = {1: \"Angry\", 2: \"NEGATIVE\", 3: \"NEUTRAL\", 4: \"POSITIVE\", 5: \"GREAT\"}\n",
    "def decode_sentiment(label):\n",
    "    return decode_map[int(label)]"
   ]
  },
  {
   "cell_type": "code",
   "execution_count": 56,
   "id": "5f569660",
   "metadata": {},
   "outputs": [
    {
     "name": "stdout",
     "output_type": "stream",
     "text": [
      "CPU times: total: 31.2 ms\n",
      "Wall time: 10.1 ms\n"
     ]
    }
   ],
   "source": [
    "%%time\n",
    "vaders.Labels = vaders.Labels.apply(lambda x: decode_sentiment(x))\n"
   ]
  },
  {
   "cell_type": "markdown",
   "id": "7ae1d44d",
   "metadata": {},
   "source": [
    "## Setup environment to build model"
   ]
  },
  {
   "cell_type": "code",
   "execution_count": 57,
   "id": "bcba614b",
   "metadata": {},
   "outputs": [],
   "source": [
    "# for building our model\n",
    "import tensorflow as tf\n",
    "from tensorflow.keras.layers import Embedding, LSTM, Dense, Bidirectional\n",
    "from tensorflow.keras.layers.experimental.preprocessing import TextVectorization\n",
    "from tensorflow.keras.models import Sequential\n",
    "from tensorflow.keras.optimizers import Adam\n",
    "from transformers import BertTokenizer, TFBertModel"
   ]
  },
  {
   "cell_type": "code",
   "execution_count": 58,
   "id": "5d4072d4",
   "metadata": {},
   "outputs": [
    {
     "name": "stdout",
     "output_type": "stream",
     "text": [
      "Requirement already satisfied: sklearn in c:\\users\\kiit\\anaconda3\\lib\\site-packages (0.0.post1)\n",
      "Note: you may need to restart the kernel to use updated packages.\n"
     ]
    }
   ],
   "source": [
    "pip install sklearn"
   ]
  },
  {
   "cell_type": "code",
   "execution_count": 59,
   "id": "06e390f0",
   "metadata": {},
   "outputs": [],
   "source": [
    "from sklearn.model_selection import train_test_split"
   ]
  },
  {
   "cell_type": "code",
   "execution_count": 60,
   "id": "e3c34138",
   "metadata": {},
   "outputs": [],
   "source": [
    "os.environ[\"WANDB_API_KEY\"] = \"0\" ## to silence warning"
   ]
  },
  {
   "cell_type": "code",
   "execution_count": 61,
   "id": "7d5ebc78",
   "metadata": {},
   "outputs": [
    {
     "name": "stdout",
     "output_type": "stream",
     "text": [
      "Number of replicas: 1\n"
     ]
    }
   ],
   "source": [
    "try:\n",
    "    tpu = tf.distribute.cluster_resolver.TPUClusterResolver()\n",
    "    tf.config.experimental_connect_to_cluster(tpu)\n",
    "    tf.tpu.experimental.initialize_tpu_system(tpu)\n",
    "    strategy = tf.distribute.experimental.TPUStrategy(tpu)\n",
    "except ValueError:\n",
    "    strategy = tf.distribute.get_strategy() # for CPU and single GPU\n",
    "    print('Number of replicas:', strategy.num_replicas_in_sync)"
   ]
  },
  {
   "cell_type": "code",
   "execution_count": 62,
   "id": "ec790e54",
   "metadata": {},
   "outputs": [],
   "source": [
    "# hyperparameters\n",
    "max_length = 150 # max length of tweets in the dataset collection time\n",
    "batch_size = 512"
   ]
  },
  {
   "cell_type": "code",
   "execution_count": 83,
   "id": "eb53169d",
   "metadata": {},
   "outputs": [],
   "source": [
    "# Bert Tokenizer\n",
    "model_name = \"bert-base-uncased\"\n",
    "tokenizer = BertTokenizer.from_pretrained(model_name)\n"
   ]
  },
  {
   "cell_type": "markdown",
   "id": "9a52e305",
   "metadata": {},
   "source": [
    "# Splitting the data"
   ]
  },
  {
   "cell_type": "code",
   "execution_count": 85,
   "id": "e60b5b26",
   "metadata": {},
   "outputs": [],
   "source": [
    "train_df, test = train_test_split(vaders, test_size=0.01, random_state=42) \n",
    "x_train, dev = train_test_split(train_df, test_size=0.01, random_state=42)"
   ]
  },
  {
   "cell_type": "code",
   "execution_count": 86,
   "id": "fc7d8ce0",
   "metadata": {},
   "outputs": [
    {
     "data": {
      "text/html": [
       "<div>\n",
       "<style scoped>\n",
       "    .dataframe tbody tr th:only-of-type {\n",
       "        vertical-align: middle;\n",
       "    }\n",
       "\n",
       "    .dataframe tbody tr th {\n",
       "        vertical-align: top;\n",
       "    }\n",
       "\n",
       "    .dataframe thead th {\n",
       "        text-align: right;\n",
       "    }\n",
       "</style>\n",
       "<table border=\"1\" class=\"dataframe\">\n",
       "  <thead>\n",
       "    <tr style=\"text-align: right;\">\n",
       "      <th></th>\n",
       "      <th>Review</th>\n",
       "      <th>neg</th>\n",
       "      <th>neu</th>\n",
       "      <th>pos</th>\n",
       "      <th>compound</th>\n",
       "      <th>Labels</th>\n",
       "    </tr>\n",
       "  </thead>\n",
       "  <tbody>\n",
       "    <tr>\n",
       "      <th>42237</th>\n",
       "      <td>DO NOT I REPEAT DO NOT GO HERE. ..I'm not a hu...</td>\n",
       "      <td>0.165</td>\n",
       "      <td>0.753</td>\n",
       "      <td>0.082</td>\n",
       "      <td>-0.9829</td>\n",
       "      <td>Angry</td>\n",
       "    </tr>\n",
       "    <tr>\n",
       "      <th>487854</th>\n",
       "      <td>Cute little place that tries to be a small-tow...</td>\n",
       "      <td>0.070</td>\n",
       "      <td>0.839</td>\n",
       "      <td>0.091</td>\n",
       "      <td>0.4304</td>\n",
       "      <td>NEUTRAL</td>\n",
       "    </tr>\n",
       "    <tr>\n",
       "      <th>40384</th>\n",
       "      <td>Enzo used to do a good job, but then he got co...</td>\n",
       "      <td>0.116</td>\n",
       "      <td>0.785</td>\n",
       "      <td>0.100</td>\n",
       "      <td>-0.2444</td>\n",
       "      <td>Angry</td>\n",
       "    </tr>\n",
       "    <tr>\n",
       "      <th>438779</th>\n",
       "      <td>So happy this place is less then 1.5 miles fro...</td>\n",
       "      <td>0.000</td>\n",
       "      <td>0.540</td>\n",
       "      <td>0.460</td>\n",
       "      <td>0.9729</td>\n",
       "      <td>GREAT</td>\n",
       "    </tr>\n",
       "    <tr>\n",
       "      <th>286866</th>\n",
       "      <td>We came here for a Christmas Day brunch. After...</td>\n",
       "      <td>0.066</td>\n",
       "      <td>0.826</td>\n",
       "      <td>0.108</td>\n",
       "      <td>0.8600</td>\n",
       "      <td>GREAT</td>\n",
       "    </tr>\n",
       "  </tbody>\n",
       "</table>\n",
       "</div>"
      ],
      "text/plain": [
       "                                                   Review    neg    neu  \\\n",
       "42237   DO NOT I REPEAT DO NOT GO HERE. ..I'm not a hu...  0.165  0.753   \n",
       "487854  Cute little place that tries to be a small-tow...  0.070  0.839   \n",
       "40384   Enzo used to do a good job, but then he got co...  0.116  0.785   \n",
       "438779  So happy this place is less then 1.5 miles fro...  0.000  0.540   \n",
       "286866  We came here for a Christmas Day brunch. After...  0.066  0.826   \n",
       "\n",
       "          pos  compound   Labels  \n",
       "42237   0.082   -0.9829    Angry  \n",
       "487854  0.091    0.4304  NEUTRAL  \n",
       "40384   0.100   -0.2444    Angry  \n",
       "438779  0.460    0.9729    GREAT  \n",
       "286866  0.108    0.8600    GREAT  "
      ]
     },
     "execution_count": 86,
     "metadata": {},
     "output_type": "execute_result"
    }
   ],
   "source": [
    "train_df.head()"
   ]
  },
  {
   "cell_type": "code",
   "execution_count": 87,
   "id": "7d5c60f5",
   "metadata": {},
   "outputs": [
    {
     "data": {
      "text/plain": [
       "(5600, 6)"
      ]
     },
     "execution_count": 87,
     "metadata": {},
     "output_type": "execute_result"
    }
   ],
   "source": [
    "train_df.shape\n",
    "test.shape\n"
   ]
  },
  {
   "cell_type": "code",
   "execution_count": 88,
   "id": "32b76cd1",
   "metadata": {},
   "outputs": [
    {
     "data": {
      "text/plain": [
       "(548856, 6)"
      ]
     },
     "execution_count": 88,
     "metadata": {},
     "output_type": "execute_result"
    }
   ],
   "source": [
    "x_train.shape"
   ]
  },
  {
   "cell_type": "code",
   "execution_count": 89,
   "id": "d75206d6",
   "metadata": {},
   "outputs": [
    {
     "data": {
      "text/plain": [
       "(5544, 6)"
      ]
     },
     "execution_count": 89,
     "metadata": {},
     "output_type": "execute_result"
    }
   ],
   "source": [
    "dev.shape"
   ]
  },
  {
   "cell_type": "code",
   "execution_count": 90,
   "id": "ac702c20",
   "metadata": {},
   "outputs": [],
   "source": [
    "train = x_train[:15000] #decrease data for time saving"
   ]
  },
  {
   "cell_type": "code",
   "execution_count": 91,
   "id": "b1c4dee6",
   "metadata": {},
   "outputs": [
    {
     "data": {
      "text/html": [
       "<div>\n",
       "<style scoped>\n",
       "    .dataframe tbody tr th:only-of-type {\n",
       "        vertical-align: middle;\n",
       "    }\n",
       "\n",
       "    .dataframe tbody tr th {\n",
       "        vertical-align: top;\n",
       "    }\n",
       "\n",
       "    .dataframe thead th {\n",
       "        text-align: right;\n",
       "    }\n",
       "</style>\n",
       "<table border=\"1\" class=\"dataframe\">\n",
       "  <thead>\n",
       "    <tr style=\"text-align: right;\">\n",
       "      <th></th>\n",
       "      <th>Review</th>\n",
       "      <th>neg</th>\n",
       "      <th>neu</th>\n",
       "      <th>pos</th>\n",
       "      <th>compound</th>\n",
       "      <th>Labels</th>\n",
       "    </tr>\n",
       "  </thead>\n",
       "  <tbody>\n",
       "    <tr>\n",
       "      <th>348344</th>\n",
       "      <td>I stopped here after seeing the sign while ran...</td>\n",
       "      <td>0.033</td>\n",
       "      <td>0.773</td>\n",
       "      <td>0.194</td>\n",
       "      <td>0.8786</td>\n",
       "      <td>GREAT</td>\n",
       "    </tr>\n",
       "    <tr>\n",
       "      <th>536821</th>\n",
       "      <td>You definitely must try Red Mansion at the Dow...</td>\n",
       "      <td>0.025</td>\n",
       "      <td>0.778</td>\n",
       "      <td>0.196</td>\n",
       "      <td>0.9899</td>\n",
       "      <td>GREAT</td>\n",
       "    </tr>\n",
       "    <tr>\n",
       "      <th>534222</th>\n",
       "      <td>I love Constellation Coffee for the following ...</td>\n",
       "      <td>0.000</td>\n",
       "      <td>0.673</td>\n",
       "      <td>0.327</td>\n",
       "      <td>0.9945</td>\n",
       "      <td>GREAT</td>\n",
       "    </tr>\n",
       "    <tr>\n",
       "      <th>547438</th>\n",
       "      <td>We decided to go early on Sunday night @ 4:30 ...</td>\n",
       "      <td>0.014</td>\n",
       "      <td>0.968</td>\n",
       "      <td>0.018</td>\n",
       "      <td>0.0928</td>\n",
       "      <td>Angry</td>\n",
       "    </tr>\n",
       "    <tr>\n",
       "      <th>417046</th>\n",
       "      <td>Tasty bagels, large selection, coffee is reall...</td>\n",
       "      <td>0.000</td>\n",
       "      <td>0.683</td>\n",
       "      <td>0.317</td>\n",
       "      <td>0.8513</td>\n",
       "      <td>GREAT</td>\n",
       "    </tr>\n",
       "  </tbody>\n",
       "</table>\n",
       "</div>"
      ],
      "text/plain": [
       "                                                   Review    neg    neu  \\\n",
       "348344  I stopped here after seeing the sign while ran...  0.033  0.773   \n",
       "536821  You definitely must try Red Mansion at the Dow...  0.025  0.778   \n",
       "534222  I love Constellation Coffee for the following ...  0.000  0.673   \n",
       "547438  We decided to go early on Sunday night @ 4:30 ...  0.014  0.968   \n",
       "417046  Tasty bagels, large selection, coffee is reall...  0.000  0.683   \n",
       "\n",
       "          pos  compound Labels  \n",
       "348344  0.194    0.8786  GREAT  \n",
       "536821  0.196    0.9899  GREAT  \n",
       "534222  0.327    0.9945  GREAT  \n",
       "547438  0.018    0.0928  Angry  \n",
       "417046  0.317    0.8513  GREAT  "
      ]
     },
     "execution_count": 91,
     "metadata": {},
     "output_type": "execute_result"
    }
   ],
   "source": [
    "train.head()"
   ]
  },
  {
   "cell_type": "markdown",
   "id": "76529a09",
   "metadata": {},
   "source": [
    "# Label Encoder"
   ]
  },
  {
   "cell_type": "code",
   "execution_count": 92,
   "id": "6b6b7acf",
   "metadata": {},
   "outputs": [],
   "source": [
    "from sklearn.preprocessing import LabelEncoder"
   ]
  },
  {
   "cell_type": "code",
   "execution_count": 93,
   "id": "58e2a9a2",
   "metadata": {},
   "outputs": [],
   "source": [
    "encoder = LabelEncoder()\n",
    "encoder.fit(train.Labels.tolist())\n",
    "\n",
    "y_train = encoder.transform(train.Labels.tolist())\n",
    "y_test = encoder.transform(test.Labels.tolist())\n",
    "y_dev = encoder.transform(dev.Labels.tolist())"
   ]
  },
  {
   "cell_type": "code",
   "execution_count": 94,
   "id": "a5e36790",
   "metadata": {},
   "outputs": [
    {
     "name": "stdout",
     "output_type": "stream",
     "text": [
      "y_train (15000, 1)\n",
      "y_test (5600, 1)\n"
     ]
    }
   ],
   "source": [
    "y_train = y_train.reshape(-1,1)\n",
    "y_test = y_test.reshape(-1,1)\n",
    "y_dev = y_dev.reshape(-1,1)\n",
    "\n",
    "print(\"y_train\",y_train.shape)\n",
    "print(\"y_test\",y_test.shape)"
   ]
  },
  {
   "cell_type": "code",
   "execution_count": 95,
   "id": "60c4e85c",
   "metadata": {},
   "outputs": [],
   "source": [
    "#takes a list of strings as input and tokenizes into sequence of integer ID\n",
    "def bert_encode(data):\n",
    "    tokens = tokenizer.batch_encode_plus(data, max_length=max_length, padding='max_length', truncation=True) \n",
    "    \n",
    "    return tf.constant(tokens['input_ids'])"
   ]
  },
  {
   "cell_type": "code",
   "execution_count": null,
   "id": "07a38364",
   "metadata": {},
   "outputs": [],
   "source": [
    "train_encoded = bert_encode(train.Review)\n",
    "dev_encoded = bert_encode(dev.Review)\n",
    "\n",
    "\n",
    "train_dataset = (\n",
    "    tf.data.Dataset\n",
    "    .from_tensor_slices((train_encoded, y_train))\n",
    "    .shuffle(128)\n",
    "    .batch(batch_size)\n",
    ")\n",
    "\n",
    "dev_dataset = (\n",
    "    tf.data.Dataset\n",
    "    .from_tensor_slices((dev_encoded, y_dev))\n",
    "    .shuffle(128)\n",
    "    .batch(batch_size)\n",
    ")\n"
   ]
  },
  {
   "cell_type": "code",
   "execution_count": null,
   "id": "51f70249",
   "metadata": {},
   "outputs": [],
   "source": [
    "dev_encoded.shape"
   ]
  },
  {
   "cell_type": "code",
   "execution_count": null,
   "id": "ae9cd079",
   "metadata": {},
   "outputs": [],
   "source": [
    "train_encoded.shape"
   ]
  },
  {
   "cell_type": "markdown",
   "id": "c2a9b3d1",
   "metadata": {},
   "source": [
    "# MODEL"
   ]
  },
  {
   "cell_type": "code",
   "execution_count": null,
   "id": "8fa0f91a",
   "metadata": {},
   "outputs": [],
   "source": [
    "def bert_model():\n",
    "\n",
    "    bert_encoder = TFBertModel.from_pretrained(model_name)\n",
    "    input_word_ids = tf.keras.Input(shape=(max_length,), dtype=tf.int32, name=\"input_ids\")\n",
    "    last_hidden_states = bert_encoder(input_word_ids)[0]   \n",
    "    x = tf.keras.layers.SpatialDropout1D(0.2)(last_hidden_states)\n",
    "    x = tf.keras.layers.Conv1D(64, 3, activation='relu')(x)\n",
    "    x = tf.keras.layers.Bidirectional(LSTM(64, dropout=0.2, recurrent_dropout=0.2))(x)\n",
    "    x = tf.keras.layers.Dense(128, activation='relu')(x)\n",
    "    x = tf.keras.layers.Dropout(0.2)(x)\n",
    "    x = tf.keras.layers.Dense(64, activation='relu')(x)\n",
    "    x = tf.keras.layers.Dropout(0.3)(x)\n",
    "    outputs = tf.keras.layers.Dense(5, activation='softmax')(x) ## change binary class to multi-class\n",
    "    model = tf.keras.Model(input_word_ids, outputs)\n",
    "    \n",
    "    for layer in bert_encoder.layers:\n",
    "    layer.trainable = True\n",
    "   \n",
    "    return model\n"
   ]
  },
  {
   "cell_type": "code",
   "execution_count": 103,
   "id": "f2e4f17f",
   "metadata": {},
   "outputs": [
    {
     "name": "stderr",
     "output_type": "stream",
     "text": [
      "Some layers from the model checkpoint at bert-base-uncased were not used when initializing TFBertModel: ['mlm___cls', 'nsp___cls']\n",
      "- This IS expected if you are initializing TFBertModel from the checkpoint of a model trained on another task or with another architecture (e.g. initializing a BertForSequenceClassification model from a BertForPreTraining model).\n",
      "- This IS NOT expected if you are initializing TFBertModel from the checkpoint of a model that you expect to be exactly identical (initializing a BertForSequenceClassification model from a BertForSequenceClassification model).\n",
      "All the layers of TFBertModel were initialized from the model checkpoint at bert-base-uncased.\n",
      "If your task is similar to the task the model of the checkpoint was trained on, you can already use TFBertModel for predictions without further training.\n"
     ]
    },
    {
     "name": "stdout",
     "output_type": "stream",
     "text": [
      "Model: \"model_1\"\n",
      "_________________________________________________________________\n",
      " Layer (type)                Output Shape              Param #   \n",
      "=================================================================\n",
      " input_ids (InputLayer)      [(None, 150)]             0         \n",
      "                                                                 \n",
      " tf_bert_model_2 (TFBertMode  TFBaseModelOutputWithPoo  109482240\n",
      " l)                          lingAndCrossAttentions(l            \n",
      "                             ast_hidden_state=(None,             \n",
      "                             150, 768),                          \n",
      "                              pooler_output=(None, 76            \n",
      "                             8),                                 \n",
      "                              past_key_values=None, h            \n",
      "                             idden_states=None, atten            \n",
      "                             tions=None, cross_attent            \n",
      "                             ions=None)                          \n",
      "                                                                 \n",
      " spatial_dropout1d_1 (Spatia  (None, 150, 768)         0         \n",
      " lDropout1D)                                                     \n",
      "                                                                 \n",
      " conv1d_1 (Conv1D)           (None, 148, 64)           147520    \n",
      "                                                                 \n",
      " bidirectional_1 (Bidirectio  (None, 128)              66048     \n",
      " nal)                                                            \n",
      "                                                                 \n",
      " dense_3 (Dense)             (None, 128)               16512     \n",
      "                                                                 \n",
      " dropout_113 (Dropout)       (None, 128)               0         \n",
      "                                                                 \n",
      " dense_4 (Dense)             (None, 64)                8256      \n",
      "                                                                 \n",
      " dropout_114 (Dropout)       (None, 64)                0         \n",
      "                                                                 \n",
      " dense_5 (Dense)             (None, 5)                 325       \n",
      "                                                                 \n",
      "=================================================================\n",
      "Total params: 109,720,901\n",
      "Trainable params: 109,720,901\n",
      "Non-trainable params: 0\n",
      "_________________________________________________________________\n"
     ]
    }
   ],
   "source": [
    "with strategy.scope():\n",
    "    model = bert_model()\n",
    "    adam_optimizer = tf.keras.optimizers.Adam(learning_rate=1e-5)\n",
    "    model.compile(loss='sparse_categorical_crossentropy',optimizer=adam_optimizer,metrics=['accuracy'])\n",
    "\n",
    "    model.summary()"
   ]
  },
  {
   "cell_type": "code",
   "execution_count": 20,
   "id": "e4bbf3b3",
   "metadata": {},
   "outputs": [
    {
     "ename": "ModuleNotFoundError",
     "evalue": "No module named 'tensorflow'",
     "output_type": "error",
     "traceback": [
      "\u001b[1;31m---------------------------------------------------------------------------\u001b[0m",
      "\u001b[1;31mModuleNotFoundError\u001b[0m                       Traceback (most recent call last)",
      "\u001b[1;32m~\\AppData\\Local\\Temp\\ipykernel_10308\\3368062465.py\u001b[0m in \u001b[0;36m<module>\u001b[1;34m\u001b[0m\n\u001b[1;32m----> 1\u001b[1;33m \u001b[1;32mfrom\u001b[0m \u001b[0mtensorflow\u001b[0m\u001b[1;33m.\u001b[0m\u001b[0mkeras\u001b[0m\u001b[1;33m.\u001b[0m\u001b[0mcallbacks\u001b[0m \u001b[1;32mimport\u001b[0m \u001b[0mReduceLROnPlateau\u001b[0m\u001b[1;33m,\u001b[0m \u001b[0mEarlyStopping\u001b[0m\u001b[1;33m\u001b[0m\u001b[1;33m\u001b[0m\u001b[0m\n\u001b[0m\u001b[0;32m      2\u001b[0m \u001b[1;33m\u001b[0m\u001b[0m\n\u001b[0;32m      3\u001b[0m callbacks = [ ReduceLROnPlateau(monitor='val_loss', patience=5, cooldown=0),\n\u001b[0;32m      4\u001b[0m               EarlyStopping(monitor='val_acc', min_delta=1e-5, patience=5)]\n",
      "\u001b[1;31mModuleNotFoundError\u001b[0m: No module named 'tensorflow'"
     ]
    }
   ],
   "source": [
    "from tensorflow.keras.callbacks import ReduceLROnPlateau, EarlyStopping\n",
    "\n",
    "callbacks = [ ReduceLROnPlateau(monitor='val_loss', patience=5, cooldown=0),\n",
    "              EarlyStopping(monitor='val_acc', min_delta=1e-5, patience=5)]"
   ]
  },
  {
   "cell_type": "code",
   "execution_count": 21,
   "id": "677b0ba3",
   "metadata": {
    "scrolled": false
   },
   "outputs": [
    {
     "ename": "NameError",
     "evalue": "name 'model' is not defined",
     "output_type": "error",
     "traceback": [
      "\u001b[1;31m---------------------------------------------------------------------------\u001b[0m",
      "\u001b[1;31mNameError\u001b[0m                                 Traceback (most recent call last)",
      "\u001b[1;32m~\\AppData\\Local\\Temp\\ipykernel_10308\\642080630.py\u001b[0m in \u001b[0;36m<module>\u001b[1;34m\u001b[0m\n\u001b[0;32m      1\u001b[0m \u001b[1;31m# Start train\u001b[0m\u001b[1;33m\u001b[0m\u001b[1;33m\u001b[0m\u001b[0m\n\u001b[1;32m----> 2\u001b[1;33m history = model.fit(\n\u001b[0m\u001b[0;32m      3\u001b[0m     \u001b[0mtrain_dataset\u001b[0m\u001b[1;33m,\u001b[0m\u001b[1;33m\u001b[0m\u001b[1;33m\u001b[0m\u001b[0m\n\u001b[0;32m      4\u001b[0m     \u001b[0mbatch_size\u001b[0m\u001b[1;33m=\u001b[0m\u001b[1;36m2\u001b[0m\u001b[1;33m,\u001b[0m\u001b[1;33m\u001b[0m\u001b[1;33m\u001b[0m\u001b[0m\n\u001b[0;32m      5\u001b[0m     \u001b[0mepochs\u001b[0m\u001b[1;33m=\u001b[0m\u001b[1;36m12\u001b[0m\u001b[1;33m,\u001b[0m\u001b[1;33m\u001b[0m\u001b[1;33m\u001b[0m\u001b[0m\n",
      "\u001b[1;31mNameError\u001b[0m: name 'model' is not defined"
     ]
    }
   ],
   "source": [
    "# Start train\n",
    "history = model.fit(\n",
    "    train_dataset,\n",
    "    batch_size=2,\n",
    "    epochs=12,\n",
    "    validation_data=dev_dataset,\n",
    "    verbose=1)"
   ]
  },
  {
   "cell_type": "code",
   "execution_count": 22,
   "id": "eb9257bf",
   "metadata": {},
   "outputs": [
    {
     "name": "stdout",
     "output_type": "stream",
     "text": [
      "Collecting tensorflow\n",
      "  Using cached tensorflow-2.12.0-cp39-cp39-win_amd64.whl (1.9 kB)\n",
      "Collecting tensorflow-intel==2.12.0 (from tensorflow)\n",
      "  Downloading tensorflow_intel-2.12.0-cp39-cp39-win_amd64.whl (272.8 MB)\n",
      "     -----                                  37.2/272.8 MB 24.4 kB/s eta 2:41:13\n",
      "Note: you may need to restart the kernel to use updated packages.\n"
     ]
    },
    {
     "name": "stderr",
     "output_type": "stream",
     "text": [
      "ERROR: Exception:\n",
      "Traceback (most recent call last):\n",
      "  File \"C:\\Users\\KIIT\\anaconda3\\lib\\site-packages\\pip\\_vendor\\urllib3\\response.py\", line 438, in _error_catcher\n",
      "    yield\n",
      "  File \"C:\\Users\\KIIT\\anaconda3\\lib\\site-packages\\pip\\_vendor\\urllib3\\response.py\", line 561, in read\n",
      "    data = self._fp_read(amt) if not fp_closed else b\"\"\n",
      "  File \"C:\\Users\\KIIT\\anaconda3\\lib\\site-packages\\pip\\_vendor\\urllib3\\response.py\", line 527, in _fp_read\n",
      "    return self._fp.read(amt) if amt is not None else self._fp.read()\n",
      "  File \"C:\\Users\\KIIT\\anaconda3\\lib\\site-packages\\pip\\_vendor\\cachecontrol\\filewrapper.py\", line 90, in read\n",
      "    data = self.__fp.read(amt)\n",
      "  File \"C:\\Users\\KIIT\\anaconda3\\lib\\http\\client.py\", line 463, in read\n",
      "    n = self.readinto(b)\n",
      "  File \"C:\\Users\\KIIT\\anaconda3\\lib\\http\\client.py\", line 507, in readinto\n",
      "    n = self.fp.readinto(b)\n",
      "  File \"C:\\Users\\KIIT\\anaconda3\\lib\\socket.py\", line 704, in readinto\n",
      "    return self._sock.recv_into(b)\n",
      "  File \"C:\\Users\\KIIT\\anaconda3\\lib\\ssl.py\", line 1242, in recv_into\n",
      "    return self.read(nbytes, buffer)\n",
      "  File \"C:\\Users\\KIIT\\anaconda3\\lib\\ssl.py\", line 1100, in read\n",
      "    return self._sslobj.read(len, buffer)\n",
      "socket.timeout: The read operation timed out\n",
      "\n",
      "During handling of the above exception, another exception occurred:\n",
      "\n",
      "Traceback (most recent call last):\n",
      "  File \"C:\\Users\\KIIT\\anaconda3\\lib\\site-packages\\pip\\_internal\\cli\\base_command.py\", line 169, in exc_logging_wrapper\n",
      "    status = run_func(*args)\n",
      "  File \"C:\\Users\\KIIT\\anaconda3\\lib\\site-packages\\pip\\_internal\\cli\\req_command.py\", line 248, in wrapper\n",
      "    return func(self, options, args)\n",
      "  File \"C:\\Users\\KIIT\\anaconda3\\lib\\site-packages\\pip\\_internal\\commands\\install.py\", line 377, in run\n",
      "    requirement_set = resolver.resolve(\n",
      "  File \"C:\\Users\\KIIT\\anaconda3\\lib\\site-packages\\pip\\_internal\\resolution\\resolvelib\\resolver.py\", line 92, in resolve\n",
      "    result = self._result = resolver.resolve(\n",
      "  File \"C:\\Users\\KIIT\\anaconda3\\lib\\site-packages\\pip\\_vendor\\resolvelib\\resolvers.py\", line 546, in resolve\n",
      "    state = resolution.resolve(requirements, max_rounds=max_rounds)\n",
      "  File \"C:\\Users\\KIIT\\anaconda3\\lib\\site-packages\\pip\\_vendor\\resolvelib\\resolvers.py\", line 427, in resolve\n",
      "    failure_causes = self._attempt_to_pin_criterion(name)\n",
      "  File \"C:\\Users\\KIIT\\anaconda3\\lib\\site-packages\\pip\\_vendor\\resolvelib\\resolvers.py\", line 239, in _attempt_to_pin_criterion\n",
      "    criteria = self._get_updated_criteria(candidate)\n",
      "  File \"C:\\Users\\KIIT\\anaconda3\\lib\\site-packages\\pip\\_vendor\\resolvelib\\resolvers.py\", line 230, in _get_updated_criteria\n",
      "    self._add_to_criteria(criteria, requirement, parent=candidate)\n",
      "  File \"C:\\Users\\KIIT\\anaconda3\\lib\\site-packages\\pip\\_vendor\\resolvelib\\resolvers.py\", line 173, in _add_to_criteria\n",
      "    if not criterion.candidates:\n",
      "  File \"C:\\Users\\KIIT\\anaconda3\\lib\\site-packages\\pip\\_vendor\\resolvelib\\structs.py\", line 156, in __bool__\n",
      "    return bool(self._sequence)\n",
      "  File \"C:\\Users\\KIIT\\anaconda3\\lib\\site-packages\\pip\\_internal\\resolution\\resolvelib\\found_candidates.py\", line 155, in __bool__\n",
      "    return any(self)\n",
      "  File \"C:\\Users\\KIIT\\anaconda3\\lib\\site-packages\\pip\\_internal\\resolution\\resolvelib\\found_candidates.py\", line 143, in <genexpr>\n",
      "    return (c for c in iterator if id(c) not in self._incompatible_ids)\n",
      "  File \"C:\\Users\\KIIT\\anaconda3\\lib\\site-packages\\pip\\_internal\\resolution\\resolvelib\\found_candidates.py\", line 47, in _iter_built\n",
      "    candidate = func()\n",
      "  File \"C:\\Users\\KIIT\\anaconda3\\lib\\site-packages\\pip\\_internal\\resolution\\resolvelib\\factory.py\", line 206, in _make_candidate_from_link\n",
      "    self._link_candidate_cache[link] = LinkCandidate(\n",
      "  File \"C:\\Users\\KIIT\\anaconda3\\lib\\site-packages\\pip\\_internal\\resolution\\resolvelib\\candidates.py\", line 293, in __init__\n",
      "    super().__init__(\n",
      "  File \"C:\\Users\\KIIT\\anaconda3\\lib\\site-packages\\pip\\_internal\\resolution\\resolvelib\\candidates.py\", line 156, in __init__\n",
      "    self.dist = self._prepare()\n",
      "  File \"C:\\Users\\KIIT\\anaconda3\\lib\\site-packages\\pip\\_internal\\resolution\\resolvelib\\candidates.py\", line 225, in _prepare\n",
      "    dist = self._prepare_distribution()\n",
      "  File \"C:\\Users\\KIIT\\anaconda3\\lib\\site-packages\\pip\\_internal\\resolution\\resolvelib\\candidates.py\", line 304, in _prepare_distribution\n",
      "    return preparer.prepare_linked_requirement(self._ireq, parallel_builds=True)\n",
      "  File \"C:\\Users\\KIIT\\anaconda3\\lib\\site-packages\\pip\\_internal\\operations\\prepare.py\", line 516, in prepare_linked_requirement\n",
      "    return self._prepare_linked_requirement(req, parallel_builds)\n",
      "  File \"C:\\Users\\KIIT\\anaconda3\\lib\\site-packages\\pip\\_internal\\operations\\prepare.py\", line 587, in _prepare_linked_requirement\n",
      "    local_file = unpack_url(\n",
      "  File \"C:\\Users\\KIIT\\anaconda3\\lib\\site-packages\\pip\\_internal\\operations\\prepare.py\", line 166, in unpack_url\n",
      "    file = get_http_url(\n",
      "  File \"C:\\Users\\KIIT\\anaconda3\\lib\\site-packages\\pip\\_internal\\operations\\prepare.py\", line 107, in get_http_url\n",
      "    from_path, content_type = download(link, temp_dir.path)\n",
      "  File \"C:\\Users\\KIIT\\anaconda3\\lib\\site-packages\\pip\\_internal\\network\\download.py\", line 147, in __call__\n",
      "    for chunk in chunks:\n",
      "  File \"C:\\Users\\KIIT\\anaconda3\\lib\\site-packages\\pip\\_internal\\cli\\progress_bars.py\", line 53, in _rich_progress_bar\n",
      "    for chunk in iterable:\n",
      "  File \"C:\\Users\\KIIT\\anaconda3\\lib\\site-packages\\pip\\_internal\\network\\utils.py\", line 63, in response_chunks\n",
      "    for chunk in response.raw.stream(\n",
      "  File \"C:\\Users\\KIIT\\anaconda3\\lib\\site-packages\\pip\\_vendor\\urllib3\\response.py\", line 622, in stream\n",
      "    data = self.read(amt=amt, decode_content=decode_content)\n",
      "  File \"C:\\Users\\KIIT\\anaconda3\\lib\\site-packages\\pip\\_vendor\\urllib3\\response.py\", line 587, in read\n",
      "    raise IncompleteRead(self._fp_bytes_read, self.length_remaining)\n",
      "  File \"C:\\Users\\KIIT\\anaconda3\\lib\\contextlib.py\", line 137, in __exit__\n",
      "    self.gen.throw(typ, value, traceback)\n",
      "  File \"C:\\Users\\KIIT\\anaconda3\\lib\\site-packages\\pip\\_vendor\\urllib3\\response.py\", line 443, in _error_catcher\n",
      "    raise ReadTimeoutError(self._pool, None, \"Read timed out.\")\n",
      "pip._vendor.urllib3.exceptions.ReadTimeoutError: HTTPSConnectionPool(host='files.pythonhosted.org', port=443): Read timed out.\n"
     ]
    }
   ],
   "source": [
    "pip install tensorflow"
   ]
  }
 ],
 "metadata": {
  "kernelspec": {
   "display_name": "Python 3 (ipykernel)",
   "language": "python",
   "name": "python3"
  },
  "language_info": {
   "codemirror_mode": {
    "name": "ipython",
    "version": 3
   },
   "file_extension": ".py",
   "mimetype": "text/x-python",
   "name": "python",
   "nbconvert_exporter": "python",
   "pygments_lexer": "ipython3",
   "version": "3.9.13"
  }
 },
 "nbformat": 4,
 "nbformat_minor": 5
}
