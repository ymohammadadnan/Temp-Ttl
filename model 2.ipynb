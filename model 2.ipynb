{
 "cells": [
  {
   "cell_type": "code",
   "execution_count": 1,
   "id": "51b634d4",
   "metadata": {},
   "outputs": [],
   "source": [
    "# Most basic stuff for EDA.\n",
    "import pandas as pd\n",
    "import numpy as np\n",
    "import matplotlib.pyplot as plt\n",
    "import seaborn as sns"
   ]
  },
  {
   "cell_type": "code",
   "execution_count": 2,
   "id": "dcc641f6",
   "metadata": {},
   "outputs": [
    {
     "name": "stderr",
     "output_type": "stream",
     "text": [
      "[nltk_data] Downloading package stopwords to\n",
      "[nltk_data]     C:\\Users\\KIIT\\AppData\\Roaming\\nltk_data...\n",
      "[nltk_data]   Package stopwords is already up-to-date!\n",
      "[nltk_data] Downloading package punkt to\n",
      "[nltk_data]     C:\\Users\\KIIT\\AppData\\Roaming\\nltk_data...\n",
      "[nltk_data]   Package punkt is already up-to-date!\n",
      "[nltk_data] Downloading package averaged_perceptron_tagger to\n",
      "[nltk_data]     C:\\Users\\KIIT\\AppData\\Roaming\\nltk_data...\n",
      "[nltk_data]   Package averaged_perceptron_tagger is already up-to-\n",
      "[nltk_data]       date!\n"
     ]
    }
   ],
   "source": [
    "# Core packages for text processing.\n",
    "import string\n",
    "import re\n",
    "\n",
    "# Libraries for text preprocessing.\n",
    "import nltk\n",
    "nltk.download('stopwords')\n",
    "nltk.download('punkt')\n",
    "nltk.download('averaged_perceptron_tagger')\n",
    "from nltk.corpus import stopwords"
   ]
  },
  {
   "cell_type": "code",
   "execution_count": 3,
   "id": "5035e57b",
   "metadata": {},
   "outputs": [],
   "source": [
    "# Loading some sklearn packaces for modelling.\n",
    "from sklearn.preprocessing import LabelEncoder\n",
    "from sklearn.decomposition import LatentDirichletAllocation, NMF # not actively using\n",
    "from sklearn.metrics import confusion_matrix, classification_report, accuracy_score, precision_score, recall_score, f1_score\n",
    "from sklearn.model_selection import train_test_split\n",
    "\n",
    "# Utility\n",
    "import logging\n",
    "import itertools"
   ]
  },
  {
   "cell_type": "code",
   "execution_count": 4,
   "id": "2b8c50d2",
   "metadata": {},
   "outputs": [],
   "source": [
    "# Core packages for general use throughout the notebook.\n",
    "import random\n",
    "import warnings\n",
    "import time\n",
    "import datetime\n",
    "\n",
    "# For customizing our plots.\n",
    "from matplotlib.ticker import MaxNLocator\n",
    "import matplotlib.gridspec as gridspec\n",
    "import matplotlib.patches as mpatches"
   ]
  },
  {
   "cell_type": "code",
   "execution_count": 5,
   "id": "7c59c683",
   "metadata": {},
   "outputs": [],
   "source": [
    "# for build our model\n",
    "import tensorflow as tf\n",
    "from tensorflow.keras.layers import Embedding, LSTM, Dense, Bidirectional\n",
    "from tensorflow.keras.layers.experimental.preprocessing import TextVectorization\n",
    "from tensorflow.keras.models import Sequential\n",
    "from tensorflow.keras.optimizers import Adam\n",
    "from transformers import BertTokenizer, TFBertModel\n",
    "\n",
    "# Setting some options for general use.\n",
    "import os\n",
    "stop = set(stopwords.words('english'))\n",
    "plt.style.use('fivethirtyeight')\n",
    "sns.set(font_scale=1.5)\n",
    "pd.options.display.max_columns = 250\n",
    "pd.options.display.max_rows = 250\n",
    "warnings.filterwarnings('ignore')"
   ]
  },
  {
   "cell_type": "code",
   "execution_count": 6,
   "id": "2bd7b463",
   "metadata": {},
   "outputs": [
    {
     "data": {
      "text/html": [
       "<div>\n",
       "<style scoped>\n",
       "    .dataframe tbody tr th:only-of-type {\n",
       "        vertical-align: middle;\n",
       "    }\n",
       "\n",
       "    .dataframe tbody tr th {\n",
       "        vertical-align: top;\n",
       "    }\n",
       "\n",
       "    .dataframe thead th {\n",
       "        text-align: right;\n",
       "    }\n",
       "</style>\n",
       "<table border=\"1\" class=\"dataframe\">\n",
       "  <thead>\n",
       "    <tr style=\"text-align: right;\">\n",
       "      <th></th>\n",
       "      <th>Unnamed: 0</th>\n",
       "      <th>Review</th>\n",
       "      <th>neg</th>\n",
       "      <th>neu</th>\n",
       "      <th>pos</th>\n",
       "      <th>compound</th>\n",
       "      <th>Labels</th>\n",
       "    </tr>\n",
       "  </thead>\n",
       "  <tbody>\n",
       "    <tr>\n",
       "      <th>0</th>\n",
       "      <td>0</td>\n",
       "      <td>Contrary to other reviews, I have zero complai...</td>\n",
       "      <td>0.059</td>\n",
       "      <td>0.852</td>\n",
       "      <td>0.089</td>\n",
       "      <td>0.6059</td>\n",
       "      <td>4</td>\n",
       "    </tr>\n",
       "    <tr>\n",
       "      <th>1</th>\n",
       "      <td>1</td>\n",
       "      <td>Last summer I had an appointment to get new ti...</td>\n",
       "      <td>0.145</td>\n",
       "      <td>0.761</td>\n",
       "      <td>0.094</td>\n",
       "      <td>-0.4339</td>\n",
       "      <td>1</td>\n",
       "    </tr>\n",
       "    <tr>\n",
       "      <th>2</th>\n",
       "      <td>2</td>\n",
       "      <td>Friendly staff, same starbucks fair you get an...</td>\n",
       "      <td>0.000</td>\n",
       "      <td>0.703</td>\n",
       "      <td>0.297</td>\n",
       "      <td>0.6705</td>\n",
       "      <td>4</td>\n",
       "    </tr>\n",
       "    <tr>\n",
       "      <th>3</th>\n",
       "      <td>3</td>\n",
       "      <td>The food is good. Unfortunately the service is...</td>\n",
       "      <td>0.179</td>\n",
       "      <td>0.725</td>\n",
       "      <td>0.096</td>\n",
       "      <td>-0.5046</td>\n",
       "      <td>1</td>\n",
       "    </tr>\n",
       "    <tr>\n",
       "      <th>4</th>\n",
       "      <td>4</td>\n",
       "      <td>Even when we didn't have a car Filene's Baseme...</td>\n",
       "      <td>0.017</td>\n",
       "      <td>0.812</td>\n",
       "      <td>0.171</td>\n",
       "      <td>0.9633</td>\n",
       "      <td>5</td>\n",
       "    </tr>\n",
       "  </tbody>\n",
       "</table>\n",
       "</div>"
      ],
      "text/plain": [
       "   Unnamed: 0                                             Review    neg  \\\n",
       "0           0  Contrary to other reviews, I have zero complai...  0.059   \n",
       "1           1  Last summer I had an appointment to get new ti...  0.145   \n",
       "2           2  Friendly staff, same starbucks fair you get an...  0.000   \n",
       "3           3  The food is good. Unfortunately the service is...  0.179   \n",
       "4           4  Even when we didn't have a car Filene's Baseme...  0.017   \n",
       "\n",
       "     neu    pos  compound  Labels  \n",
       "0  0.852  0.089    0.6059       4  \n",
       "1  0.761  0.094   -0.4339       1  \n",
       "2  0.703  0.297    0.6705       4  \n",
       "3  0.725  0.096   -0.5046       1  \n",
       "4  0.812  0.171    0.9633       5  "
      ]
     },
     "execution_count": 6,
     "metadata": {},
     "output_type": "execute_result"
    }
   ],
   "source": [
    "df = pd.read_csv('updated_dataset.csv')\n",
    "df.head()"
   ]
  },
  {
   "cell_type": "code",
   "execution_count": 7,
   "id": "17001fec",
   "metadata": {},
   "outputs": [],
   "source": [
    "#map target label to string"
   ]
  },
  {
   "cell_type": "code",
   "execution_count": 8,
   "id": "c14202ef",
   "metadata": {},
   "outputs": [],
   "source": [
    "decode_map = {1: \"ANGRY\", 2: \"NEGATIVE\", 3: \"NEUTRAL\", 4: \"POSITIVE\", 5: \"GREAT\"}\n",
    "def decode_sentiment(Labels):\n",
    "    return decode_map[int(Labels)]"
   ]
  },
  {
   "cell_type": "code",
   "execution_count": 9,
   "id": "59c395e6",
   "metadata": {},
   "outputs": [
    {
     "name": "stdout",
     "output_type": "stream",
     "text": [
      "Wall time: 48.2 ms\n"
     ]
    }
   ],
   "source": [
    "%%time\n",
    "df.Labels = df.Labels.apply(lambda x: decode_sentiment(x))"
   ]
  },
  {
   "cell_type": "markdown",
   "id": "b0cfa4a6",
   "metadata": {},
   "source": [
    "# cleaning Text"
   ]
  },
  {
   "cell_type": "code",
   "execution_count": 10,
   "id": "29a152c2",
   "metadata": {},
   "outputs": [],
   "source": [
    "def remove_stopwords(text):\n",
    "    tokens = []\n",
    "    for token in text.split():\n",
    "        if token not in stop:\n",
    "            tokens.append(token)\n",
    "    return \" \".join(tokens)\n",
    "\n",
    "\n",
    "def remove_URL(text):\n",
    "    url = re.compile(r'https?://\\S+|www\\.\\S+')\n",
    "    return url.sub(r'', text)\n",
    "\n",
    "def remove_html(text):\n",
    "    html = re.compile(r'<.*?>|&([a-z0-9]+|#[0-9]{1,6}|#x[0-9a-f]{1,6});')\n",
    "    return re.sub(html, '', text)\n",
    "\n",
    "\n",
    "def remove_punct(text):\n",
    "    table = str.maketrans('', '', string.punctuation)\n",
    "    return text.translate(table)\n",
    "\n",
    "# Applying helper functions\n",
    "df['text_clean'] = df['Review'].apply(lambda x: remove_stopwords(x))\n",
    "df['text_clean'] = df['text_clean'].apply(lambda x: remove_URL(x))\n",
    "df['text_clean'] = df['text_clean'].apply(lambda x: remove_html(x))\n",
    "df['text_clean'] = df['text_clean'].apply(lambda x: remove_punct(x))\n"
   ]
  },
  {
   "cell_type": "code",
   "execution_count": 11,
   "id": "6332c460",
   "metadata": {},
   "outputs": [
    {
     "data": {
      "text/html": [
       "<div>\n",
       "<style scoped>\n",
       "    .dataframe tbody tr th:only-of-type {\n",
       "        vertical-align: middle;\n",
       "    }\n",
       "\n",
       "    .dataframe tbody tr th {\n",
       "        vertical-align: top;\n",
       "    }\n",
       "\n",
       "    .dataframe thead th {\n",
       "        text-align: right;\n",
       "    }\n",
       "</style>\n",
       "<table border=\"1\" class=\"dataframe\">\n",
       "  <thead>\n",
       "    <tr style=\"text-align: right;\">\n",
       "      <th></th>\n",
       "      <th>Unnamed: 0</th>\n",
       "      <th>Review</th>\n",
       "      <th>neg</th>\n",
       "      <th>neu</th>\n",
       "      <th>pos</th>\n",
       "      <th>compound</th>\n",
       "      <th>Labels</th>\n",
       "      <th>text_clean</th>\n",
       "    </tr>\n",
       "  </thead>\n",
       "  <tbody>\n",
       "    <tr>\n",
       "      <th>0</th>\n",
       "      <td>0</td>\n",
       "      <td>Contrary to other reviews, I have zero complai...</td>\n",
       "      <td>0.059</td>\n",
       "      <td>0.852</td>\n",
       "      <td>0.089</td>\n",
       "      <td>0.6059</td>\n",
       "      <td>POSITIVE</td>\n",
       "      <td>Contrary reviews I zero complaints service pri...</td>\n",
       "    </tr>\n",
       "    <tr>\n",
       "      <th>1</th>\n",
       "      <td>1</td>\n",
       "      <td>Last summer I had an appointment to get new ti...</td>\n",
       "      <td>0.145</td>\n",
       "      <td>0.761</td>\n",
       "      <td>0.094</td>\n",
       "      <td>-0.4339</td>\n",
       "      <td>ANGRY</td>\n",
       "      <td>Last summer I appointment get new tires wait s...</td>\n",
       "    </tr>\n",
       "    <tr>\n",
       "      <th>2</th>\n",
       "      <td>2</td>\n",
       "      <td>Friendly staff, same starbucks fair you get an...</td>\n",
       "      <td>0.000</td>\n",
       "      <td>0.703</td>\n",
       "      <td>0.297</td>\n",
       "      <td>0.6705</td>\n",
       "      <td>POSITIVE</td>\n",
       "      <td>Friendly staff starbucks fair get anywhere els...</td>\n",
       "    </tr>\n",
       "    <tr>\n",
       "      <th>3</th>\n",
       "      <td>3</td>\n",
       "      <td>The food is good. Unfortunately the service is...</td>\n",
       "      <td>0.179</td>\n",
       "      <td>0.725</td>\n",
       "      <td>0.096</td>\n",
       "      <td>-0.5046</td>\n",
       "      <td>ANGRY</td>\n",
       "      <td>The food good Unfortunately service hit miss T...</td>\n",
       "    </tr>\n",
       "    <tr>\n",
       "      <th>4</th>\n",
       "      <td>4</td>\n",
       "      <td>Even when we didn't have a car Filene's Baseme...</td>\n",
       "      <td>0.017</td>\n",
       "      <td>0.812</td>\n",
       "      <td>0.171</td>\n",
       "      <td>0.9633</td>\n",
       "      <td>GREAT</td>\n",
       "      <td>Even car Filenes Basement worth bus trip Water...</td>\n",
       "    </tr>\n",
       "  </tbody>\n",
       "</table>\n",
       "</div>"
      ],
      "text/plain": [
       "   Unnamed: 0                                             Review    neg  \\\n",
       "0           0  Contrary to other reviews, I have zero complai...  0.059   \n",
       "1           1  Last summer I had an appointment to get new ti...  0.145   \n",
       "2           2  Friendly staff, same starbucks fair you get an...  0.000   \n",
       "3           3  The food is good. Unfortunately the service is...  0.179   \n",
       "4           4  Even when we didn't have a car Filene's Baseme...  0.017   \n",
       "\n",
       "     neu    pos  compound    Labels  \\\n",
       "0  0.852  0.089    0.6059  POSITIVE   \n",
       "1  0.761  0.094   -0.4339     ANGRY   \n",
       "2  0.703  0.297    0.6705  POSITIVE   \n",
       "3  0.725  0.096   -0.5046     ANGRY   \n",
       "4  0.812  0.171    0.9633     GREAT   \n",
       "\n",
       "                                          text_clean  \n",
       "0  Contrary reviews I zero complaints service pri...  \n",
       "1  Last summer I appointment get new tires wait s...  \n",
       "2  Friendly staff starbucks fair get anywhere els...  \n",
       "3  The food good Unfortunately service hit miss T...  \n",
       "4  Even car Filenes Basement worth bus trip Water...  "
      ]
     },
     "execution_count": 11,
     "metadata": {},
     "output_type": "execute_result"
    }
   ],
   "source": [
    "df.head()\n"
   ]
  },
  {
   "cell_type": "code",
   "execution_count": 12,
   "id": "cbde2e91",
   "metadata": {},
   "outputs": [],
   "source": [
    "df['Character Count'] = df['text_clean'].apply(lambda x: len(str(x)))\n",
    "\n",
    "def plot_dist3(df_x, feature, title):\n",
    "    fig = plt.figure(constrained_layout=True, figsize=(18, 8))\n",
    "    grid = gridspec.GridSpec(ncols=3, nrows=3, figure=fig)\n",
    "    ax1 = fig.add_subplot(grid[:, 2])\n",
    "    # Set title.\n",
    "    ax1.set_title('Box Plot')\n",
    "    # Plotting the box plot.\n",
    "    sns.boxplot(x=feature, data=df, orient='v', ax=ax1, color='#e74c3c')\n",
    "    ax1.yaxis.set_major_locator(MaxNLocator(nbins=25))\n",
    "\n",
    "    plt.suptitle(f'{title}', fontsize=24)"
   ]
  },
  {
   "cell_type": "code",
   "execution_count": 13,
   "id": "eff8e815",
   "metadata": {},
   "outputs": [
    {
     "data": {
      "image/png": "[encoded data removed]",
      "text/plain": [
       "<Figure size 1800x800 with 1 Axes>"
      ]
     },
     "metadata": {},
     "output_type": "display_data"
    }
   ],
   "source": [
    "plot_dist3(df[df['Labels'] == 'NEGATIVE'], 'Character Count',\n",
    "           'Characters Per \"NEGATIVE\" Review')"
   ]
  },
  {
   "cell_type": "markdown",
   "id": "fb7e313e",
   "metadata": {},
   "source": [
    "# Setup environment to build model"
   ]
  },
  {
   "cell_type": "code",
   "execution_count": 14,
   "id": "76a258fe",
   "metadata": {},
   "outputs": [],
   "source": [
    "os.environ[\"WANDB_API_KEY\"] = \"0\" ## to silence warning"
   ]
  },
  {
   "cell_type": "code",
   "execution_count": 15,
   "id": "3fd55f49",
   "metadata": {},
   "outputs": [
    {
     "name": "stdout",
     "output_type": "stream",
     "text": [
      "Number of replicas: 1\n"
     ]
    }
   ],
   "source": [
    "try:\n",
    "    tpu = tf.distribute.cluster_resolver.TPUClusterResolver()\n",
    "    tf.config.experimental_connect_to_cluster(tpu)\n",
    "    tf.tpu.experimental.initialize_tpu_system(tpu)\n",
    "    strategy = tf.distribute.experimental.TPUStrategy(tpu)\n",
    "except ValueError:\n",
    "    strategy = tf.distribute.get_strategy() # for CPU and single GPU\n",
    "    print('Number of replicas:', strategy.num_replicas_in_sync)"
   ]
  },
  {
   "cell_type": "code",
   "execution_count": 16,
   "id": "53e8563c",
   "metadata": {},
   "outputs": [],
   "source": [
    "# hyperparameters\n",
    "max_length = 128\n",
    "batch_size = 64\n"
   ]
  },
  {
   "cell_type": "code",
   "execution_count": 17,
   "id": "09399daa",
   "metadata": {},
   "outputs": [],
   "source": [
    "# Bert Tokenizer\n",
    "model_name = \"bert-base-uncased\"\n",
    "tokenizer = BertTokenizer.from_pretrained(model_name)"
   ]
  },
  {
   "cell_type": "markdown",
   "id": "d68f8826",
   "metadata": {},
   "source": [
    "# splitting the data"
   ]
  },
  {
   "cell_type": "code",
   "execution_count": 18,
   "id": "27c9322a",
   "metadata": {},
   "outputs": [],
   "source": [
    "train_df, test = train_test_split(df, test_size=0.01, random_state=42) \n",
    "x_train, dev = train_test_split(train_df, test_size=0.01, random_state=42)"
   ]
  },
  {
   "cell_type": "code",
   "execution_count": 19,
   "id": "9fcee94e",
   "metadata": {},
   "outputs": [],
   "source": [
    "train = x_train[:1500]"
   ]
  },
  {
   "cell_type": "code",
   "execution_count": 20,
   "id": "bdb212bf",
   "metadata": {},
   "outputs": [
    {
     "data": {
      "text/plain": [
       "['GREAT', 'POSITIVE', 'ANGRY', 'NEUTRAL', 'NEGATIVE']"
      ]
     },
     "execution_count": 20,
     "metadata": {},
     "output_type": "execute_result"
    }
   ],
   "source": [
    "labels = train.Labels.unique().tolist()\n",
    "labels"
   ]
  },
  {
   "cell_type": "code",
   "execution_count": 21,
   "id": "b00be2a3",
   "metadata": {},
   "outputs": [
    {
     "name": "stdout",
     "output_type": "stream",
     "text": [
      "y_train (1500, 1)\n",
      "y_test (380, 1)\n"
     ]
    }
   ],
   "source": [
    "encoder = LabelEncoder()\n",
    "encoder.fit(train.Labels.tolist())\n",
    "\n",
    "y_train = encoder.transform(train.Labels.tolist())\n",
    "y_test = encoder.transform(test.Labels.tolist())\n",
    "y_dev = encoder.transform(dev.Labels.tolist())\n",
    "\n",
    "y_train = y_train.reshape(-1,1)\n",
    "y_test = y_test.reshape(-1,1)\n",
    "y_dev = y_dev.reshape(-1,1)\n",
    "\n",
    "print(\"y_train\",y_train.shape)\n",
    "print(\"y_test\",y_test.shape)"
   ]
  },
  {
   "cell_type": "code",
   "execution_count": 22,
   "id": "b42dd165",
   "metadata": {},
   "outputs": [],
   "source": [
    "#takes a list of strings as input and tokenizes into sequence of integer ID\n",
    "def bert_encode(data):\n",
    "    tokens = tokenizer.batch_encode_plus(data, max_length=max_length, padding='max_length', truncation=True) \n",
    "    \n",
    "    return tf.constant(tokens['input_ids'])"
   ]
  },
  {
   "cell_type": "code",
   "execution_count": 23,
   "id": "a5c49e6b",
   "metadata": {},
   "outputs": [],
   "source": [
    "train_encoded = bert_encode(train.text_clean)\n",
    "dev_encoded = bert_encode(dev.text_clean)\n",
    "\n",
    "\n",
    "train_dataset = (\n",
    "    tf.data.Dataset\n",
    "    .from_tensor_slices((train_encoded, y_train))\n",
    "    .shuffle(128)\n",
    "    .batch(batch_size)\n",
    ")\n",
    "\n",
    "dev_dataset = (\n",
    "    tf.data.Dataset\n",
    "    .from_tensor_slices((dev_encoded, y_dev))\n",
    "    .shuffle(128)\n",
    "    .batch(batch_size)\n",
    ")"
   ]
  },
  {
   "cell_type": "markdown",
   "id": "29d93ace",
   "metadata": {},
   "source": [
    "# MODEL"
   ]
  },
  {
   "cell_type": "code",
   "execution_count": 1,
   "id": "317ca51a",
   "metadata": {},
   "outputs": [],
   "source": [
    "def bert_model():\n",
    "\n",
    "    bert_encoder = TFBertModel.from_pretrained(model_name)\n",
    "    input_word_ids = tf.keras.Input(shape=(max_length,), dtype=tf.int32, name=\"input_ids\")\n",
    "    last_hidden_states = bert_encoder(input_word_ids)[0]   \n",
    "    x = tf.keras.layers.SpatialDropout1D(0.2)(last_hidden_states)\n",
    "    x = tf.keras.layers.Conv1D(64, 3, activation='relu')(x)\n",
    "    x = tf.keras.layers.Bidirectional(LSTM(64, dropout=0.2, recurrent_dropout=0.2))(x)\n",
    "    x = tf.keras.layers.Dense(128, activation='relu')(x)\n",
    "    x = tf.keras.layers.Dropout(0.2)(x)\n",
    "    x = tf.keras.layers.Dense(64, activation='relu')(x)\n",
    "    x = tf.keras.layers.Dropout(0.3)(x)\n",
    "    \n",
    "\n",
    "    \n",
    "    outputs = tf.keras.layers.Dense(5, activation='softmax')(x)\n",
    "    model = tf.keras.Model(input_word_ids, outputs)\n",
    "   \n",
    "    return model"
   ]
  },
  {
   "cell_type": "code",
   "execution_count": 2,
   "id": "7e970c7b",
   "metadata": {},
   "outputs": [
    {
     "ename": "NameError",
     "evalue": "name 'strategy' is not defined",
     "output_type": "error",
     "traceback": [
      "\u001b[1;31m---------------------------------------------------------------------------\u001b[0m",
      "\u001b[1;31mNameError\u001b[0m                                 Traceback (most recent call last)",
      "\u001b[1;32m~\\AppData\\Local\\Temp\\ipykernel_8600\\3490651158.py\u001b[0m in \u001b[0;36m<module>\u001b[1;34m\u001b[0m\n\u001b[1;32m----> 1\u001b[1;33m \u001b[1;32mwith\u001b[0m \u001b[0mstrategy\u001b[0m\u001b[1;33m.\u001b[0m\u001b[0mscope\u001b[0m\u001b[1;33m(\u001b[0m\u001b[1;33m)\u001b[0m\u001b[1;33m:\u001b[0m\u001b[1;33m\u001b[0m\u001b[1;33m\u001b[0m\u001b[0m\n\u001b[0m\u001b[0;32m      2\u001b[0m     \u001b[0mmodel\u001b[0m \u001b[1;33m=\u001b[0m \u001b[0mbert_model\u001b[0m\u001b[1;33m(\u001b[0m\u001b[1;33m)\u001b[0m\u001b[1;33m\u001b[0m\u001b[1;33m\u001b[0m\u001b[0m\n\u001b[0;32m      3\u001b[0m     \u001b[0madam_optimizer\u001b[0m \u001b[1;33m=\u001b[0m \u001b[0mtf\u001b[0m\u001b[1;33m.\u001b[0m\u001b[0mkeras\u001b[0m\u001b[1;33m.\u001b[0m\u001b[0moptimizers\u001b[0m\u001b[1;33m.\u001b[0m\u001b[0mAdam\u001b[0m\u001b[1;33m(\u001b[0m\u001b[0mlearning_rate\u001b[0m\u001b[1;33m=\u001b[0m\u001b[1;36m1e-5\u001b[0m\u001b[1;33m)\u001b[0m\u001b[1;33m\u001b[0m\u001b[1;33m\u001b[0m\u001b[0m\n\u001b[0;32m      4\u001b[0m     \u001b[0mmodel\u001b[0m\u001b[1;33m.\u001b[0m\u001b[0mcompile\u001b[0m\u001b[1;33m(\u001b[0m\u001b[0mloss\u001b[0m\u001b[1;33m=\u001b[0m\u001b[1;34m'sparse_categorical_crossentropy'\u001b[0m\u001b[1;33m,\u001b[0m\u001b[0moptimizer\u001b[0m\u001b[1;33m=\u001b[0m\u001b[0madam_optimizer\u001b[0m\u001b[1;33m,\u001b[0m\u001b[0mmetrics\u001b[0m\u001b[1;33m=\u001b[0m\u001b[1;33m[\u001b[0m\u001b[1;34m'accuracy'\u001b[0m\u001b[1;33m]\u001b[0m\u001b[1;33m)\u001b[0m\u001b[1;33m\u001b[0m\u001b[1;33m\u001b[0m\u001b[0m\n\u001b[0;32m      5\u001b[0m \u001b[1;33m\u001b[0m\u001b[0m\n",
      "\u001b[1;31mNameError\u001b[0m: name 'strategy' is not defined"
     ]
    }
   ],
   "source": [
    "with strategy.scope():\n",
    "    model = bert_model()\n",
    "    adam_optimizer = tf.keras.optimizers.Adam(learning_rate=1e-5)\n",
    "    model.compile(loss='sparse_categorical_crossentropy',optimizer=adam_optimizer,metrics=['accuracy'])\n",
    "\n",
    "    model.summary()"
   ]
  },
  {
   "cell_type": "code",
   "execution_count": 26,
   "id": "41a2e20d",
   "metadata": {},
   "outputs": [],
   "source": [
    "from tensorflow.keras.callbacks import ReduceLROnPlateau, EarlyStopping\n",
    "\n",
    "callbacks = [ ReduceLROnPlateau(monitor='val_loss', patience=5, cooldown=0),\n",
    "              EarlyStopping(monitor='val_acc', min_delta=1e-5, patience=5)]  \n",
    "#early stopping to stop the training process once the validation loss starts to increase, \n",
    "#indicating that the model is starting to overfit."
   ]
  },
  {
   "cell_type": "code",
   "execution_count": 27,
   "id": "da554e60",
   "metadata": {},
   "outputs": [
    {
     "name": "stdout",
     "output_type": "stream",
     "text": [
      "Epoch 1/3\n",
      "WARNING:tensorflow:Gradients do not exist for variables ['tf_bert_model/bert/pooler/dense/kernel:0', 'tf_bert_model/bert/pooler/dense/bias:0'] when minimizing the loss. If you're using `model.compile()`, did you forget to provide a `loss` argument?\n",
      "WARNING:tensorflow:Gradients do not exist for variables ['tf_bert_model/bert/pooler/dense/kernel:0', 'tf_bert_model/bert/pooler/dense/bias:0'] when minimizing the loss. If you're using `model.compile()`, did you forget to provide a `loss` argument?\n",
      "WARNING:tensorflow:Gradients do not exist for variables ['tf_bert_model/bert/pooler/dense/kernel:0', 'tf_bert_model/bert/pooler/dense/bias:0'] when minimizing the loss. If you're using `model.compile()`, did you forget to provide a `loss` argument?\n",
      "WARNING:tensorflow:Gradients do not exist for variables ['tf_bert_model/bert/pooler/dense/kernel:0', 'tf_bert_model/bert/pooler/dense/bias:0'] when minimizing the loss. If you're using `model.compile()`, did you forget to provide a `loss` argument?\n",
      "24/24 [==============================] - ETA: 0s - loss: 1.3762 - accuracy: 0.5160  WARNING:tensorflow:Early stopping conditioned on metric `val_acc` which is not available. Available metrics are: loss,accuracy,val_loss,val_accuracy,lr\n",
      "24/24 [==============================] - 2149s 87s/step - loss: 1.3762 - accuracy: 0.5160 - val_loss: 1.2613 - val_accuracy: 0.5491 - lr: 1.0000e-05\n",
      "Epoch 2/3\n",
      "24/24 [==============================] - ETA: 0s - loss: 1.2683 - accuracy: 0.5567  WARNING:tensorflow:Early stopping conditioned on metric `val_acc` which is not available. Available metrics are: loss,accuracy,val_loss,val_accuracy,lr\n",
      "24/24 [==============================] - 2126s 88s/step - loss: 1.2683 - accuracy: 0.5567 - val_loss: 1.2048 - val_accuracy: 0.5491 - lr: 1.0000e-05\n",
      "Epoch 3/3\n",
      "24/24 [==============================] - ETA: 0s - loss: 1.2328 - accuracy: 0.5567  WARNING:tensorflow:Early stopping conditioned on metric `val_acc` which is not available. Available metrics are: loss,accuracy,val_loss,val_accuracy,lr\n",
      "24/24 [==============================] - 1840s 77s/step - loss: 1.2328 - accuracy: 0.5567 - val_loss: 1.1637 - val_accuracy: 0.5491 - lr: 1.0000e-05\n"
     ]
    }
   ],
   "source": [
    "# Start train\n",
    "history = model.fit(\n",
    "    train_dataset,\n",
    "    batch_size=batch_size,\n",
    "    epochs=3,\n",
    "    validation_data=dev_dataset,\n",
    "    verbose=1,\n",
    "    callbacks = callbacks)\n"
   ]
  },
  {
   "cell_type": "code",
   "execution_count": 134,
   "id": "8f1b7ab0",
   "metadata": {},
   "outputs": [],
   "source": [
    "model.save(\"my_model.h5\")"
   ]
  },
  {
   "cell_type": "code",
   "execution_count": 135,
   "id": "3395de18",
   "metadata": {},
   "outputs": [],
   "source": [
    "model.save_weights(f'sentiment_weights_v1.h5')"
   ]
  },
  {
   "cell_type": "code",
   "execution_count": 136,
   "id": "26cbdf84",
   "metadata": {},
   "outputs": [
    {
     "data": {
      "image/png": "[encoded data removed]",
      "text/plain": [
       "<Figure size 640x480 with 1 Axes>"
      ]
     },
     "metadata": {},
     "output_type": "display_data"
    },
    {
     "data": {
      "image/png": "[encoded data removed]",
      "text/plain": [
       "<Figure size 640x480 with 1 Axes>"
      ]
     },
     "metadata": {},
     "output_type": "display_data"
    }
   ],
   "source": [
    "def plot_graphs(history, string):\n",
    "    plt.plot(history.history[string])\n",
    "    plt.plot(history.history['val_'+string])\n",
    "    plt.xlabel(\"Epochs\")\n",
    "    plt.ylabel(string)\n",
    "    plt.legend([string, 'val_'+string])\n",
    "    plt.show()\n",
    "   \n",
    "plot_graphs(history, \"accuracy\")\n",
    "plot_graphs(history, \"loss\")"
   ]
  },
  {
   "cell_type": "code",
   "execution_count": 137,
   "id": "8a9cc329",
   "metadata": {},
   "outputs": [],
   "source": [
    "def decode_sentiment(score, include_neutral=True):\n",
    "    if include_neutral:        \n",
    "        if score < 0.2:\n",
    "            label = \"ANGRY\"\n",
    "        elif score < 0.4:\n",
    "            label = \"NEGATIVE\"\n",
    "        elif score < 0.6:\n",
    "            label = \"NEUTRAL\"\n",
    "        elif score < 0.8:\n",
    "            label = \"HAPPY\"\n",
    "        else:\n",
    "            label = \"GREAT\"\n",
    "    else:\n",
    "        if score < 0.5:\n",
    "            label = \"NEGATIVE\"\n",
    "        else:\n",
    "            label = \"POSITIVE\"\n",
    "    return label\n"
   ]
  },
  {
   "cell_type": "code",
   "execution_count": 138,
   "id": "308d17bc",
   "metadata": {},
   "outputs": [],
   "source": [
    "class_names = [\"ANGRY\", \"NEGATIVE\", \"NEUTRAL\", \"POSITIVE\", \"GREAT\"]\n"
   ]
  },
  {
   "cell_type": "code",
   "execution_count": 139,
   "id": "71e9d08c",
   "metadata": {},
   "outputs": [],
   "source": [
    "import time\n",
    "import numpy as np\n",
    "\n",
    "def predict(text,include_neutral=True):\n",
    "    start_at = time.time()\n",
    "    # Tokenize text\n",
    "    x_encoded = bert_encode([text])\n",
    "    # Predict\n",
    "    scores = model.predict([x_encoded])[0]\n",
    "    class_idx = np.argmax(scores)\n",
    "    label = class_names[class_idx]\n",
    "    score = scores[class_idx]\n",
    "    label = decode_sentiment(score, include_neutral=True)\n",
    "    # Decode sentiment\n",
    "    return {\"label\": label, \"score\": float(score),\n",
    "            \"elapsed_time\": time.time()-start_at}"
   ]
  },
  {
   "cell_type": "code",
   "execution_count": 140,
   "id": "48cd02d7",
   "metadata": {},
   "outputs": [
    {
     "name": "stdout",
     "output_type": "stream",
     "text": [
      "1/1 [==============================] - 3s 3s/step\n"
     ]
    },
    {
     "data": {
      "text/plain": [
       "{'label': 'NEGATIVE',\n",
       " 'score': 0.3468444347381592,\n",
       " 'elapsed_time': 3.1426336765289307}"
      ]
     },
     "execution_count": 140,
     "metadata": {},
     "output_type": "execute_result"
    }
   ],
   "source": [
    "predict(\"I hate the economy\")"
   ]
  },
  {
   "cell_type": "code",
   "execution_count": 141,
   "id": "50231fc0",
   "metadata": {},
   "outputs": [
    {
     "name": "stdout",
     "output_type": "stream",
     "text": [
      "1/1 [==============================] - 3s 3s/step\n"
     ]
    },
    {
     "data": {
      "text/plain": [
       "{'label': 'NEUTRAL',\n",
       " 'score': 0.41653674840927124,\n",
       " 'elapsed_time': 3.0013809204101562}"
      ]
     },
     "execution_count": 141,
     "metadata": {},
     "output_type": "execute_result"
    }
   ],
   "source": [
    "predict(\"I would prefer writing a crawler to create this dataset but i couldn't\", True)"
   ]
  },
  {
   "cell_type": "code",
   "execution_count": 143,
   "id": "627a0e2f",
   "metadata": {},
   "outputs": [
    {
     "name": "stdout",
     "output_type": "stream",
     "text": [
      "1/1 [==============================] - 3s 3s/step\n"
     ]
    },
    {
     "data": {
      "text/plain": [
       "{'label': 'NEGATIVE',\n",
       " 'score': 0.38785913586616516,\n",
       " 'elapsed_time': 2.854097843170166}"
      ]
     },
     "execution_count": 143,
     "metadata": {},
     "output_type": "execute_result"
    }
   ],
   "source": [
    "predict(\"I wish I was dead\")"
   ]
  }
 ],
 "metadata": {
  "kernelspec": {
   "display_name": "Python 3 (ipykernel)",
   "language": "python",
   "name": "python3"
  },
  "language_info": {
   "codemirror_mode": {
    "name": "ipython",
    "version": 3
   },
   "file_extension": ".py",
   "mimetype": "text/x-python",
   "name": "python",
   "nbconvert_exporter": "python",
   "pygments_lexer": "ipython3",
   "version": "3.9.13"
  }
 },
 "nbformat": 4,
 "nbformat_minor": 5
}
